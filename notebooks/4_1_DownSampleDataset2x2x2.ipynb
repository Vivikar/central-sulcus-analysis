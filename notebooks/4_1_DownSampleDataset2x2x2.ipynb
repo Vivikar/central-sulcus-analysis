{
 "cells": [
  {
   "cell_type": "code",
   "execution_count": 2,
   "metadata": {},
   "outputs": [],
   "source": [
    "import sys\n",
    "from pathlib import Path\n",
    "\n",
    "sys.path.append(str(Path.cwd().parent))\n"
   ]
  },
  {
   "cell_type": "code",
   "execution_count": 3,
   "metadata": {},
   "outputs": [],
   "source": [
    "## tqdm for loading bars\n",
    "from tqdm import tqdm\n",
    "\n",
    "import torch\n",
    "## Torchvision\n",
    "import torchvision\n",
    "from torchvision import transforms\n",
    "import SimpleITK as sitk\n",
    "from multiprocessing import Pool\n",
    "\n",
    "from src.utils.general import resample_volume"
   ]
  },
  {
   "cell_type": "code",
   "execution_count": 4,
   "metadata": {},
   "outputs": [],
   "source": [
    "from src.models.simclr import SimCLR as SimCLRD\n",
    "from src.data.self_supervised_dm import ContrastiveDataSet as ContrastiveDataSetD, ContrastiveDataModule"
   ]
  },
  {
   "cell_type": "code",
   "execution_count": 5,
   "metadata": {},
   "outputs": [],
   "source": [
    "orig_path = Path('/mrhome/vladyslavz/git/central-sulcus-analysis/data/brainvisa_augm/nobackup/generated')\n",
    "down_path = Path(orig_path = Path('/mrhome/vladyslavz/git/central-sulcus-analysis/data/brainvisa_augm_2x2x2/nobackup'))"
   ]
  },
  {
   "cell_type": "code",
   "execution_count": 6,
   "metadata": {},
   "outputs": [],
   "source": [
    "imgs = [x for x in orig_path.glob('*/*_t1_*.nii.gz')]"
   ]
  },
  {
   "cell_type": "code",
   "execution_count": 7,
   "metadata": {},
   "outputs": [
    {
     "data": {
      "text/plain": [
       "12400"
      ]
     },
     "execution_count": 7,
     "metadata": {},
     "output_type": "execute_result"
    }
   ],
   "source": [
    "len(imgs)"
   ]
  },
  {
   "cell_type": "code",
   "execution_count": 8,
   "metadata": {},
   "outputs": [],
   "source": [
    "def process_img(p):\n",
    "    new_p = str(p).replace('brainvisa_augm', 'brainvisa_augm_2x2x2')\n",
    "    Path(new_p).parent.mkdir(parents=True, exist_ok=True)\n",
    "    img = sitk.ReadImage(str(p))\n",
    "    \n",
    "    image_interpolator = sitk.sitkNearestNeighbor if 'labels' in new_p else sitk.sitkLinear \n",
    "    res_img = resample_volume(img, [2, 2, 2], image_interpolator)\n",
    "    sitk.WriteImage(res_img, new_p)\n",
    "    return 1"
   ]
  },
  {
   "cell_type": "code",
   "execution_count": 9,
   "metadata": {},
   "outputs": [],
   "source": [
    "# for p in tqdm(imgs):\n",
    "#     process_img(p)"
   ]
  },
  {
   "attachments": {},
   "cell_type": "markdown",
   "metadata": {},
   "source": [
    "Use multiprocessing"
   ]
  },
  {
   "cell_type": "code",
   "execution_count": 10,
   "metadata": {},
   "outputs": [
    {
     "name": "stderr",
     "output_type": "stream",
     "text": [
      "100%|██████████| 12400/12400 [14:47<00:00, 13.97it/s]\n"
     ]
    }
   ],
   "source": [
    "with Pool(10) as p:\n",
    "    r = list(tqdm(p.imap(process_img, imgs), total=len(imgs)))"
   ]
  },
  {
   "cell_type": "code",
   "execution_count": null,
   "metadata": {},
   "outputs": [],
   "source": []
  }
 ],
 "metadata": {
  "kernelspec": {
   "display_name": "css",
   "language": "python",
   "name": "python3"
  },
  "language_info": {
   "codemirror_mode": {
    "name": "ipython",
    "version": 3
   },
   "file_extension": ".py",
   "mimetype": "text/x-python",
   "name": "python",
   "nbconvert_exporter": "python",
   "pygments_lexer": "ipython3",
   "version": "3.10.9"
  },
  "orig_nbformat": 4,
  "vscode": {
   "interpreter": {
    "hash": "4cc313e80ba78aa359b4293e6814db2500968638cda5b0940cd65559d56791a3"
   }
  }
 },
 "nbformat": 4,
 "nbformat_minor": 2
}
