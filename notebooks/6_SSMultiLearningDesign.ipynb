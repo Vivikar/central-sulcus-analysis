{
 "cells": [
  {
   "cell_type": "code",
   "execution_count": 1,
   "metadata": {},
   "outputs": [],
   "source": [
    "import sys\n",
    "from pathlib import Path\n",
    "\n",
    "sys.path.append(str(Path.cwd().parent))\n",
    "\n",
    "from torchsummary import summary\n",
    "\n",
    "import matplotlib.pyplot as plt\n"
   ]
  },
  {
   "cell_type": "code",
   "execution_count": 2,
   "metadata": {},
   "outputs": [],
   "source": [
    "import torch\n",
    "import torchmetrics\n",
    "import torch.nn as nn\n",
    "import torch.optim as optim\n",
    "import pytorch_lightning as pl\n",
    "import torch.nn.functional as F\n",
    "from monai.networks.nets.resnet import resnet18\n",
    "from monai.losses import DiceLoss\n",
    "from src.models.unet3d.model_encoders import UNet3D\n",
    "\n",
    "\n",
    "class SimCLR(pl.LightningModule):\n",
    "\n",
    "    def __init__(self,\n",
    "                 hidden_dim: int,\n",
    "                 lr: float,\n",
    "                 max_epochs: int,\n",
    "                 img_dim: int,\n",
    "                 temperature: float,\n",
    "                 weight_decay: float,\n",
    "                 encoder: UNet3D,\n",
    "                 optimizer: torch.optim.Optimizer,\n",
    "                 scheduler: torch.optim.lr_scheduler,\n",
    "                 dice_weight: float = 0.5,\n",
    "                 ):\n",
    "        \"\"\"_summary_\n",
    "\n",
    "        Args:\n",
    "            hidden_dim (int): number of neurons in the MLP head output aka dimensionality\n",
    "                of feature vector\n",
    "            lr (float): _description_\n",
    "            img_dim (int): _description_\n",
    "            temperature (float): _description_\n",
    "            dice_weight (float): Weight of the dice term in the loss function.\n",
    "                Between 0 and 1. Default: 0.5.\n",
    "            weight_decay (float): _description_\n",
    "            encoder (UNet3D): _description_\n",
    "            optimizer (torch.optim.Optimizer): _description_\n",
    "            scheduler (torch.optim.lr_scheduler): _description_\n",
    "        \"\"\"\n",
    "        super().__init__()\n",
    "        self.save_hyperparameters(ignore=['net', 'encoder'])\n",
    "\n",
    "        self.dice_weight = dice_weight\n",
    "        self.learning_rate = lr\n",
    "\n",
    "        assert self.hparams.temperature > 0.0, 'The temperature must be a positive float!'\n",
    "\n",
    "        # extract information about last layer embedding dimension\n",
    "        number_of_layers = len(encoder.f_maps)\n",
    "        last_layer_kernels = encoder.f_maps[-1]\n",
    "\n",
    "        # calculate u-net embeding dimension after max pooling\n",
    "        embed_dim = int(last_layer_kernels * ((img_dim/(2)**(number_of_layers - 1))**3)/(2**3))\n",
    "\n",
    "        self.unet = encoder\n",
    "        # The MLP for g(.) consists of Linear->ReLU->Linear\n",
    "        self.mlp_head = nn.Sequential(nn.Sequential(*encoder.encoders),\n",
    "                                      nn.MaxPool3d(kernel_size=2, stride=2),\n",
    "                                      nn.Flatten(),\n",
    "                                      nn.Linear(embed_dim, embed_dim),\n",
    "                                      nn.ReLU(inplace=False),\n",
    "                                      nn.Linear(embed_dim, hidden_dim))\n",
    "        # define the loss functions for segmentation and contrastive learning\n",
    "        self.contrastive_loss = torch.nn.CrossEntropyLoss()\n",
    "        \n",
    "        self.dice_loss = DiceLoss(to_onehot_y=True, softmax=True,\n",
    "                                  include_background=False)\n",
    "        \n",
    "        self.val_dsc = torchmetrics.Dice(ignore_index=0,\n",
    "                                         average='macro',\n",
    "                                         num_classes=3)\n",
    "        self.train_dsc = torchmetrics.Dice(ignore_index=0,\n",
    "                                           average='macro',\n",
    "                                           num_classes=3)\n",
    "        \n",
    "    def configure_optimizers(self):\n",
    "        optimizer = optim.Adam(self.parameters(), lr=self.learning_rate)\n",
    "        return optimizer\n",
    "\n",
    "    def forward(self, x):\n",
    "        return self.mlp_head(x), self.unet(x)\n",
    "\n",
    "    def info_nce_loss(self, batch, mode='train'):\n",
    "\n",
    "        # NEW UN-BATCHING WITH LABELS\n",
    "        img1, img2, lab1, lab2 = batch\n",
    "\n",
    "        ########### InfoNCE Loss ###########\n",
    "        imgs = torch.cat([img1, img2], dim=0)\n",
    "        # Encode all images\n",
    "        features = self.mlp_head(imgs)\n",
    "\n",
    "        labels = torch.cat([torch.arange(batch[-1].shape[0], device=features.device) for i in range(2)], dim=0)\n",
    "        labels = (labels.unsqueeze(0) == labels.unsqueeze(1)).float()\n",
    "\n",
    "        features = F.normalize(features, dim=1)\n",
    "        \n",
    "        similarity_matrix = torch.matmul(features, features.T)\n",
    "\n",
    "        # discard the main diagonal from both: labels and similarities matrix\n",
    "        mask = torch.eye(labels.shape[0], dtype=torch.bool, device=similarity_matrix.device)\n",
    "        labels = labels[~mask].view(labels.shape[0], -1)\n",
    "        similarity_matrix = similarity_matrix[~mask].view(similarity_matrix.shape[0], -1)\n",
    "        # assert similarity_matrix.shape == labels.shape\n",
    "\n",
    "        # select and combine multiple positives\n",
    "        positives = similarity_matrix[labels.bool()].view(labels.shape[0], -1)\n",
    "\n",
    "        # select only the negatives the negatives\n",
    "        negatives = similarity_matrix[~labels.bool()].view(similarity_matrix.shape[0], -1)\n",
    "\n",
    "        logits = torch.cat([positives, negatives], dim=1)\n",
    "        labels = torch.zeros(logits.shape[0], dtype=torch.long, device=logits.device)\n",
    "        logits = logits / self.hparams.temperature\n",
    "\n",
    "        contrastive_loss = self.contrastive_loss(logits, labels)\n",
    "\n",
    "\n",
    "        ### DICE Loss ###\n",
    "        lab1_pred = self.unet(img1)\n",
    "        lab2_pred = self.unet(img2)\n",
    "        \n",
    "        dice1 = self.dice_loss(lab1_pred, lab1)\n",
    "        dice2 = self.dice_loss(lab2_pred, lab2)\n",
    "        \n",
    "        dice_loss = dice1 + dice2\n",
    "        \n",
    "        final_loss = (1-self.dice_weight)*contrastive_loss + self.dice_weight*dice_loss\n",
    "    \n",
    "        # Logging loss\n",
    "        self.log(mode+'_final_loss', final_loss, prog_bar=True)\n",
    "        self.log(mode+'_dice_loss', dice_loss, prog_bar=True)\n",
    "        self.log(mode+'_contrastive_loss', contrastive_loss, prog_bar=True)\n",
    "        \n",
    "        # top1, top5 = self.accuracy(logits, labels, topk=(1, 5))\n",
    "        # # # Get ranking position of positive example\n",
    "\n",
    "\n",
    "        # # Logging ranking metrics\n",
    "        # self.log(mode+'_acc_top1', top1[0],\n",
    "        #          prog_bar=True)\n",
    "        # self.log(mode+'_acc_top5', top5[0],\n",
    "        #          prog_bar=True)\n",
    "\n",
    "        if mode == 'val':\n",
    "            self.val_dsc(torch.concat([lab1_pred, lab2_pred]), torch.concat([lab1.squeeze(dim=1),   lab2.squeeze(dim=1)]))\n",
    "            self.log(mode+'_dice', self.val_dsc.compute(), prog_bar=True,\n",
    "                    on_step=True, on_epoch=True, batch_size=16, logger=True)\n",
    "        elif mode == 'train':\n",
    "            self.train_dsc(torch.concat([lab1_pred, lab2_pred]), torch.concat([lab1.squeeze(dim=1),   lab2.squeeze(dim=1)]))\n",
    "            self.log(mode+'_dice', self.train_dsc.compute(), prog_bar=True,\n",
    "                    on_step=True, on_epoch=True, batch_size=8, logger=True)\n",
    "        return final_loss\n",
    "        # return nll\n",
    "    @staticmethod\n",
    "    def accuracy(output, target, topk=(1,)):\n",
    "        \"\"\"Computes the accuracy over the k top predictions for the specified values of k\"\"\"\n",
    "        with torch.no_grad():\n",
    "            maxk = max(topk)\n",
    "            batch_size = target.size(0)\n",
    "\n",
    "            _, pred = output.topk(maxk, 1, True, True)\n",
    "            pred = pred.t()\n",
    "            correct = pred.eq(target.view(1, -1).expand_as(pred))\n",
    "\n",
    "            res = []\n",
    "            for k in topk:\n",
    "                correct_k = correct[:k].reshape(-1).float().sum(0, keepdim=True)\n",
    "                res.append(correct_k.mul_(100.0 / batch_size))\n",
    "            return res\n",
    "    def training_step(self, batch, batch_idx):\n",
    "        return self.info_nce_loss(batch, mode='train')\n",
    "\n",
    "    def validation_step(self, batch, batch_idx):\n",
    "        return self.info_nce_loss(batch, mode='val')\n"
   ]
  },
  {
   "attachments": {},
   "cell_type": "markdown",
   "metadata": {},
   "source": [
    "# Debug DataModule"
   ]
  },
  {
   "cell_type": "code",
   "execution_count": 3,
   "metadata": {},
   "outputs": [],
   "source": [
    "import os\n",
    "import random\n",
    "import logging\n",
    "from pathlib import Path\n",
    "\n",
    "import torch\n",
    "import numpy as np\n",
    "import SimpleITK as sitk\n",
    "import torch.utils.data as data\n",
    "from pytorch_lightning import LightningDataModule\n",
    "from monai.transforms import Affine\n",
    "\n",
    "from src.utils.general import resample_volume\n",
    "from src.data.splits import synthseg_sst_splits\n",
    "\n",
    "logger = logging.getLogger(__name__)\n",
    "\n",
    "# path to synstheg generated images and label maps folders\n",
    "sytnthseg_orig_path = Path(os.environ['SYNTHSEG_PATH'])\n",
    "sytnthseg2x2x2_path = Path(os.environ['SYNTHSEG2x2x2_PATH'])\n",
    "\n",
    "\n",
    "class ContrastiveDataSet(data.Dataset):\n",
    "    def __init__(self,\n",
    "                 dataset: str,\n",
    "                 split: str,\n",
    "                 nviews:int = 2,\n",
    "                 use_2x2x2_preproc: bool = True,\n",
    "                 skull_strip: bool | float = True,\n",
    "                 resample: list[float] | None = None,\n",
    "                 ):\n",
    "        \"\"\"ContrastiveDataSet\n",
    "\n",
    "        Args:\n",
    "            dataset (str): Which dataset to use for contrastive learning.\n",
    "                Available datasets: 'synthseg'.\n",
    "            nviews (int, optional): How many agumented images of the same labelmap tp load . Defaults to 2.\n",
    "            split (srt): Train or validation split.\n",
    "            skull_strip (bool|float, optional): Whether to load skull-stripped images or not. \n",
    "                If a float given, removes the skull with a given probability.\n",
    "                Defaults to True (always removes the skull & face).\n",
    "            resample (list[x, y, z] | None, optional): Resample the images to a given resolution.\n",
    "\n",
    "        \"\"\"\n",
    "        self.dataset = dataset\n",
    "        self.nviews = nviews\n",
    "        self.skull_strip = skull_strip\n",
    "        self.resample = list(resample) if resample is not None else None\n",
    "        self.split = split\n",
    "        self.use_2x2x2_preproc = use_2x2x2_preproc\n",
    "        self.transfrom = Affine(scale_params=(1.5, 1.5, 1.5))\n",
    "        if dataset == 'synthseg':\n",
    "            self._load_synthseg()\n",
    "        else:\n",
    "            raise ValueError(f'Unknown dataset: {dataset}')\n",
    "\n",
    "    def __getitem__(self, index):\n",
    "        img_path = self.img_dirs[index]\n",
    "        all_img_views = [x for x in img_path.glob('image*.nii.gz')]\n",
    "        views_paths = [all_img_views[random.randint(0,len(all_img_views)-1)]\\\n",
    "                        for i in range(self.nviews)]\n",
    "\n",
    "        views_images = self._load_images(views_paths)\n",
    "\n",
    "        return (views_images, -1)\n",
    "\n",
    "    def __len__(self):\n",
    "        return len(self.img_dirs)\n",
    "\n",
    "    def _load_synthseg(self):\n",
    "        if self.use_2x2x2_preproc:\n",
    "            sytnthseg_path = sytnthseg2x2x2_path\n",
    "        else:\n",
    "            sytnthseg_path = sytnthseg_orig_path\n",
    "\n",
    "        self.img_dirs = [x for x in sytnthseg_path.iterdir() if x.is_dir()]\n",
    "\n",
    "        if self.split == 'train':\n",
    "            self.img_dirs = [x for x in self.img_dirs if x.name not in synthseg_sst_splits['val']]\n",
    "        elif self.split == 'val':\n",
    "            self.img_dirs = [x for x in self.img_dirs if x.name in synthseg_sst_splits['val']]\n",
    "\n",
    "    def _load_images(self, views_paths):\n",
    "\n",
    "        # load images and convert to numpy\n",
    "        images = [sitk.ReadImage(str(p)) for p in views_paths]\n",
    "        images = [self._preporces_sitk(img) for img in images]\n",
    "        images = [sitk.GetArrayFromImage(img) for img in images]\n",
    "\n",
    "        # load labels and convert to numpy\n",
    "        lable_paths = [str(x).replace('image', 'labels') for x in views_paths]\n",
    "        labels = [sitk.ReadImage(p) for p in lable_paths]\n",
    "        labels = [self._preporces_sitk(img, labelmap=True) for img in labels]\n",
    "        labels = [sitk.GetArrayFromImage(img) for img in labels]\n",
    "\n",
    "        # skull strip\n",
    "        if self.skull_strip:\n",
    "            # if skull_strip is a float, remove the skull with a given probability\n",
    "            if random.random() < self.skull_strip:\n",
    "                # mask out everything except cortex labels\n",
    "                cortex_mask = [((x < 500) & (x != 0)).astype(np.int16) for x in labels]\n",
    "                images = [x*y for x, y in zip(images, cortex_mask)]\n",
    "\n",
    "        # min-max normalization\n",
    "        images = [(i - i.min())/(i.max() - i.min()) for i in images]\n",
    "\n",
    "        # convert to torch tensors and return\n",
    "        images = [torch.tensor(i, dtype=torch.float32) for i in images]\n",
    "        labels = [torch.tensor(i, dtype=torch.int64) for i in labels]\n",
    "        \n",
    "        # encode labels\n",
    "        labels = [self._encode_segmentation(l) for l in labels]\n",
    "\n",
    "        # squeeze the channel dimension\n",
    "        images = [i.unsqueeze(0) for i in images]\n",
    "        \n",
    "        images[1] = self.transfrom(images[0])[0].to\n",
    "        return images + labels\n",
    "\n",
    "    def _encode_segmentation(self, img):\n",
    "        # 0 - everything except, 1-GM (FreeSuerfer 3/42), 2-WM (FreeSurfer 2/41)\n",
    "        img[(img != 3)&(img != 42)&(img != 2)&(img != 41)] = 0\n",
    "        img[(img == 3)|(img == 42)] = 1\n",
    "        img[(img == 2)|(img == 41)] = 2\n",
    "        return img.unsqueeze(0)\n",
    "    \n",
    "    def _preporces_sitk(self, img, labelmap=False):\n",
    "        image_interpolator = sitk.sitkLinear if not labelmap else sitk.sitkNearestNeighbor\n",
    "        if self.resample is not None:\n",
    "            img = resample_volume(img, self.resample, image_interpolator)\n",
    "            return img\n",
    "        else:\n",
    "            return img\n",
    "\n",
    "\n",
    "class ContrastiveDataModule(LightningDataModule):\n",
    "    def __init__(self,\n",
    "                 dataset_cfg,\n",
    "                 train_batch_size: int,\n",
    "                 validation_batch_size: int,\n",
    "                 num_workers: int) -> None:\n",
    "        super().__init__()\n",
    "        self.dataset_cfg = dataset_cfg\n",
    "        self.train_batch_size = train_batch_size\n",
    "        self.validation_batch_size = validation_batch_size\n",
    "        self.num_workers = num_workers\n",
    "\n",
    "        self.train_dataset = ContrastiveDataSet(**dataset_cfg, split='train')\n",
    "\n",
    "        self.val_dataset = ContrastiveDataSet(**dataset_cfg, split='val')\n",
    "\n",
    "        logger.info(f'Len of train examples {len(self.train_dataset)} ' +\n",
    "                    f'len of validation examples {len(self.val_dataset)}')\n",
    "\n",
    "    def train_dataloader(self):\n",
    "        return data.DataLoader(self.train_dataset,\n",
    "                               batch_size=self.train_batch_size,\n",
    "                               shuffle=True,\n",
    "                               num_workers=self.num_workers,\n",
    "                               drop_last=True,\n",
    "                               pin_memory=True)\n",
    "\n",
    "    def val_dataloader(self):\n",
    "        return data.DataLoader(\n",
    "            self.val_dataset,\n",
    "            batch_size=self.validation_batch_size,\n",
    "            shuffle=False,\n",
    "            num_workers=self.num_workers,\n",
    "            drop_last=False,\n",
    "            pin_memory=True)\n"
   ]
  },
  {
   "cell_type": "code",
   "execution_count": 4,
   "metadata": {},
   "outputs": [
    {
     "name": "stdout",
     "output_type": "stream",
     "text": [
      "2023-03-16 11:45:51,090 - Len of train examples 16 len of validation examples 4\n"
     ]
    }
   ],
   "source": [
    "dm = ContrastiveDataModule({'dataset':'synthseg',\n",
    "                                        'nviews':2, 'skull_strip':True,\n",
    "                                        'resample':None,\n",
    "                                        'use_2x2x2_preproc':True},2,2,1)\n",
    "\n",
    "dl = data.DataLoader(\n",
    "            dm.train_dataset,\n",
    "            batch_size=1,\n",
    "            shuffle=False,\n",
    "            num_workers=1,\n",
    "            drop_last=False,\n",
    "            pin_memory=False)\n",
    "\n",
    "ds = dm.train_dataset"
   ]
  },
  {
   "cell_type": "code",
   "execution_count": 37,
   "metadata": {},
   "outputs": [
    {
     "data": {
      "image/png": "[encoded data removed]",
      "text/plain": [
       "<Figure size 1000x1000 with 4 Axes>"
      ]
     },
     "metadata": {},
     "output_type": "display_data"
    }
   ],
   "source": [
    "imgs = ds[6][0]\n",
    "\n",
    "# plot the images\n",
    "fig, ax = plt.subplots(2, 2, figsize=(10, 10))\n",
    "ax[0, 0].imshow(imgs[0][0, :, 65, :], cmap='gray')\n",
    "ax[0, 1].imshow(imgs[1][0, :, 65, :], cmap='gray')\n",
    "ax[0, 0].grid(False)\n",
    "ax[0, 1].grid(False)\n",
    "ax[0, 0].set_axis_off()\n",
    "ax[0, 1].set_axis_off()\n",
    "ax[1, 0].imshow(imgs[2][0, :, 65, :])\n",
    "ax[1, 1].imshow(imgs[3][0, :, 65, :])\n",
    "ax[1, 0].grid(False)\n",
    "ax[1, 1].grid(False)\n",
    "ax[1, 0].set_axis_off()\n",
    "ax[1, 1].set_axis_off()\n",
    "plt.tight_layout()\n",
    "plt.show()"
   ]
  },
  {
   "cell_type": "code",
   "execution_count": 38,
   "metadata": {},
   "outputs": [],
   "source": [
    "# encode labels 3 and 42 as GM\n",
    "# and 2 and 41 as WM"
   ]
  },
  {
   "cell_type": "code",
   "execution_count": 39,
   "metadata": {},
   "outputs": [],
   "source": [
    "# from torch.utils.data import default_collate\n",
    "# import numpy as np\n",
    "\n",
    "# a = [i*np.ones((1, 2, 2, 2)) for i in range(1,5)]\n",
    "# b = [10*i*np.ones((1, 2, 2, 2)) for i in range(1, 5)]\n",
    "\n",
    "# c = default_collate([a, b])\n",
    "\n",
    "# print(len(c))\n",
    "\n",
    "# c[0]"
   ]
  },
  {
   "attachments": {},
   "cell_type": "markdown",
   "metadata": {},
   "source": [
    "Now the training batch is a list of 4 elements each with the shape:\n",
    "`torch.Size([batch_size, n_channels, X, Y, Z])`\n",
    "\n",
    "First two elements are the input images, the last two are the segmentation masks corresponding to the input images."
   ]
  },
  {
   "attachments": {},
   "cell_type": "markdown",
   "metadata": {},
   "source": [
    "```\n",
    "4\n",
    "torch.Size([3, 1, 128, 128, 128]) torch.Size([3, 1, 128, 128, 128])\n",
    "torch.Size([3, 128, 128, 128]) torch.Size([3, 128, 128, 128])\n",
    "tensor(0.) tensor(1.)\n",
    "tensor(0.) tensor(1.)\n",
    "tensor(0) tensor(60)\n",
    "tensor(0) tensor(60)\n",
    "tensor(0.1865) tensor(0.2140)\n",
    "tensor(0.0682) tensor(0.1144)\n",
    "tensor(False)\n",
    "```"
   ]
  },
  {
   "attachments": {},
   "cell_type": "markdown",
   "metadata": {},
   "source": [
    "# Estimate model parameters size"
   ]
  },
  {
   "cell_type": "code",
   "execution_count": 49,
   "metadata": {},
   "outputs": [],
   "source": [
    "import torchsummary\n",
    "import hydra"
   ]
  },
  {
   "cell_type": "code",
   "execution_count": 50,
   "metadata": {},
   "outputs": [],
   "source": [
    "from src.models.unet3d.model_encodecoders import UNet3D"
   ]
  },
  {
   "cell_type": "code",
   "execution_count": 51,
   "metadata": {},
   "outputs": [
    {
     "name": "stderr",
     "output_type": "stream",
     "text": [
      "Attribute 'encoder' is an instance of `nn.Module` and is already saved during checkpointing. It is recommended to ignore them using `self.save_hyperparameters(ignore=['encoder'])`.\n"
     ]
    }
   ],
   "source": [
    "unetmodel = UNet3D(in_channels=1,\n",
    "                   out_channels=3,\n",
    "                   f_maps=[16, 32, 64, 128, 256, 512],\n",
    "                   decoder_encoder=True)\n",
    "model = SimCLR(hidden_dim=256,\n",
    "                 lr=0.00001,\n",
    "                 max_epochs=500,\n",
    "                 img_dim=128,\n",
    "                 temperature=0.07,\n",
    "                 weight_decay=1e-4,\n",
    "                 encoder=unetmodel,\n",
    "                 optimizer=torch.optim.Adam,\n",
    "                 scheduler= None,\n",
    "                 dice_weight= 0.5)"
   ]
  },
  {
   "cell_type": "code",
   "execution_count": 52,
   "metadata": {},
   "outputs": [],
   "source": [
    "sim_batch = [torch.stack([imgs[0], imgs[0]]), torch.stack([imgs[1], imgs[1]]), torch.stack([imgs[2], imgs[2]]), torch.stack([imgs[3], imgs[3]])]"
   ]
  },
  {
   "cell_type": "code",
   "execution_count": 54,
   "metadata": {},
   "outputs": [
    {
     "name": "stderr",
     "output_type": "stream",
     "text": [
      "You are trying to `self.log()` but the `self.trainer` reference is not registered on the model yet. This is most likely because the model hasn't been passed to the `Trainer`\n"
     ]
    },
    {
     "data": {
      "text/plain": [
       "tensor(1.7419, grad_fn=<AddBackward0>)"
      ]
     },
     "execution_count": 54,
     "metadata": {},
     "output_type": "execute_result"
    }
   ],
   "source": [
    "model.training_step(sim_batch, 0)"
   ]
  },
  {
   "cell_type": "code",
   "execution_count": 98,
   "metadata": {},
   "outputs": [],
   "source": [
    "a = np.array([1, 2, 3, 4, 5, 6, 7, 8, 9, 10])\n",
    "b = np.array([11, 132, 133, 0.14, 125, 2, 3, 14, 29, 60])\n",
    "c = b**2\n",
    "v1 = torch.tensor([c, a, b, 10*a, 20*a, a, b, b], dtype=torch.float32)\n",
    "v2 = torch.tensor([(a+3)*20, b+1, 20*a, a, b, a+18, a+15, c], dtype=torch.float32)"
   ]
  },
  {
   "cell_type": "code",
   "execution_count": 99,
   "metadata": {},
   "outputs": [
    {
     "data": {
      "text/plain": [
       "torch.Size([8, 10])"
      ]
     },
     "execution_count": 99,
     "metadata": {},
     "output_type": "execute_result"
    }
   ],
   "source": [
    "v1.shape"
   ]
  },
  {
   "cell_type": "code",
   "execution_count": 100,
   "metadata": {},
   "outputs": [
    {
     "data": {
      "text/plain": [
       "tensor(3)"
      ]
     },
     "execution_count": 100,
     "metadata": {},
     "output_type": "execute_result"
    }
   ],
   "source": [
    "similarities = F.cosine_similarity(v1, v2, dim=1)\n",
    "argsimmax = torch.argmax(similarities)\n",
    "argsimmax"
   ]
  },
  {
   "cell_type": "code",
   "execution_count": 101,
   "metadata": {},
   "outputs": [],
   "source": [
    "cos = torch.nn.CosineSimilarity(dim=1, eps=1e-6)"
   ]
  },
  {
   "cell_type": "code",
   "execution_count": 102,
   "metadata": {},
   "outputs": [
    {
     "data": {
      "text/plain": [
       "tensor([0.4505, 0.5060, 0.4987, 1.0000, 0.4987, 0.9360, 0.6447, 0.9833])"
      ]
     },
     "execution_count": 102,
     "metadata": {},
     "output_type": "execute_result"
    }
   ],
   "source": [
    "cos(v1, v2)"
   ]
  },
  {
   "cell_type": "code",
   "execution_count": 103,
   "metadata": {},
   "outputs": [],
   "source": [
    "from torchmetrics.functional import pairwise_cosine_similarity"
   ]
  },
  {
   "cell_type": "code",
   "execution_count": 104,
   "metadata": {},
   "outputs": [
    {
     "data": {
      "text/plain": [
       "tensor([[0.4505, 0.9822, 0.3643, 0.3643, 0.9833, 0.5468, 0.5394, 1.0000],\n",
       "        [0.9879, 0.5060, 1.0000, 1.0000, 0.4987, 0.9360, 0.9421, 0.3643],\n",
       "        [0.5734, 1.0000, 0.4987, 0.4987, 1.0000, 0.6503, 0.6447, 0.9833],\n",
       "        [0.9879, 0.5060, 1.0000, 1.0000, 0.4987, 0.9360, 0.9421, 0.3643],\n",
       "        [0.9879, 0.5060, 1.0000, 1.0000, 0.4987, 0.9360, 0.9421, 0.3643],\n",
       "        [0.9879, 0.5060, 1.0000, 1.0000, 0.4987, 0.9360, 0.9421, 0.3643],\n",
       "        [0.5734, 1.0000, 0.4987, 0.4987, 1.0000, 0.6503, 0.6447, 0.9833],\n",
       "        [0.5734, 1.0000, 0.4987, 0.4987, 1.0000, 0.6503, 0.6447, 0.9833]])"
      ]
     },
     "execution_count": 104,
     "metadata": {},
     "output_type": "execute_result"
    }
   ],
   "source": [
    "sim_mat = pairwise_cosine_similarity(v1, v2)\n",
    "sim_mat"
   ]
  },
  {
   "cell_type": "code",
   "execution_count": 105,
   "metadata": {},
   "outputs": [
    {
     "data": {
      "text/plain": [
       "tensor([[7, 4, 1, 5, 6, 0, 2, 3],\n",
       "        [2, 3, 0, 6, 5, 1, 4, 7],\n",
       "        [4, 1, 7, 5, 6, 0, 2, 3],\n",
       "        [2, 3, 0, 6, 5, 1, 4, 7],\n",
       "        [2, 3, 0, 6, 5, 1, 4, 7],\n",
       "        [2, 3, 0, 6, 5, 1, 4, 7],\n",
       "        [4, 1, 7, 5, 6, 0, 2, 3],\n",
       "        [4, 1, 7, 5, 6, 0, 2, 3]])"
      ]
     },
     "execution_count": 105,
     "metadata": {},
     "output_type": "execute_result"
    }
   ],
   "source": []
  },
  {
   "cell_type": "code",
   "execution_count": null,
   "metadata": {},
   "outputs": [],
   "source": []
  }
 ],
 "metadata": {
  "kernelspec": {
   "display_name": "css",
   "language": "python",
   "name": "python3"
  },
  "language_info": {
   "codemirror_mode": {
    "name": "ipython",
    "version": 3
   },
   "file_extension": ".py",
   "mimetype": "text/x-python",
   "name": "python",
   "nbconvert_exporter": "python",
   "pygments_lexer": "ipython3",
   "version": "3.10.9"
  },
  "orig_nbformat": 4,
  "vscode": {
   "interpreter": {
    "hash": "4cc313e80ba78aa359b4293e6814db2500968638cda5b0940cd65559d56791a3"
   }
  }
 },
 "nbformat": 4,
 "nbformat_minor": 2
}
