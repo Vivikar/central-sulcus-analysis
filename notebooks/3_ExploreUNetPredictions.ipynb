{
 "cells": [
  {
   "cell_type": "code",
   "execution_count": 1,
   "metadata": {},
   "outputs": [
    {
     "data": {
      "text/plain": [
       "True"
      ]
     },
     "execution_count": 1,
     "metadata": {},
     "output_type": "execute_result"
    }
   ],
   "source": [
    "import sys\n",
    "from pathlib import Path\n",
    "\n",
    "sys.path.append(str(Path.cwd().parent))\n",
    "\n",
    "import SimpleITK as sitk\n",
    "\n",
    "from typing import List, Tuple\n",
    "import torch\n",
    "import hydra\n",
    "import omegaconf\n",
    "import numpy as np\n",
    "from omegaconf import DictConfig\n",
    "from pytorch_lightning import LightningDataModule, LightningModule, Trainer\n",
    "from pytorch_lightning.loggers import Logger\n",
    "from src.models.UNet3D import BasicUNet3D\n",
    "from torchmetrics import Dice\n",
    "# pyrootutils.setup_root(__file__, indicator=\".project-root\", pythonpath=True)\n",
    "\n",
    "import src.utils.default as utils\n",
    "import matplotlib.pyplot as plt\n",
    "torch.set_float32_matmul_precision('medium')\n",
    "\n",
    "from dotenv import load_dotenv\n",
    "\n",
    "load_dotenv(Path.cwd().parent/'.env')\n"
   ]
  },
  {
   "cell_type": "code",
   "execution_count": 4,
   "metadata": {},
   "outputs": [],
   "source": [
    "log = utils.get_pylogger(__name__)\n",
    "# realtive patj\n",
    "EVAL_PATH = '../logs/leftsulci65-maskeddice-rotate-replicationtest/runs/2023-02-27_14-47-42/.hydra'\n",
    "\n",
    "# abs path\n",
    "CHKPT_PATH = '/mrhome/vladyslavz/git/central-sulcus-analysis/logs/leftsulci65-maskeddice-rotate-replicationtest/runs/2023-02-27_14-47-42/checkpoints/epoch-078.ckpt'\n",
    "\n",
    "device = 'cuda:0'\n",
    "\n",
    "cfg = omegaconf.OmegaConf.load(EVAL_PATH + '/config.yaml')"
   ]
  },
  {
   "cell_type": "code",
   "execution_count": 5,
   "metadata": {},
   "outputs": [],
   "source": [
    "cfg.ckpt_path = CHKPT_PATH\n",
    "cfg.test = True"
   ]
  },
  {
   "cell_type": "code",
   "execution_count": 6,
   "metadata": {},
   "outputs": [
    {
     "name": "stdout",
     "output_type": "stream",
     "text": [
      "2023-02-27 15:34:56,529 - Instantiating datamodule <src.data.bvisa_dm.CS_DataModule>\n",
      "2023-02-27 15:34:56,550 - Len of train examples 38 len of validation examples 12\n",
      "2023-02-27 15:34:56,551 - Instantiating model <src.models.UNet3D.BasicUNet3D>\n",
      "2023-02-27 15:34:57,369 - Instantiating trainer <pytorch_lightning.Trainer>\n"
     ]
    },
    {
     "name": "stderr",
     "output_type": "stream",
     "text": [
      "Setting `Trainer(gpus=1)` is deprecated in v1.7 and will be removed in v2.0. Please use `Trainer(accelerator='gpu', devices=1)` instead.\n",
      "The `srun` command is available on your system but is not used. HINT: If your intention is to run Lightning on SLURM, prepend your python command with `srun` like so: srun python /mrhome/vladyslavz/anaconda3/envs/css/lib/python3.10 ...\n",
      "GPU available: True (cuda), used: True\n",
      "TPU available: False, using: 0 TPU cores\n",
      "IPU available: False, using: 0 IPUs\n",
      "HPU available: False, using: 0 HPUs\n"
     ]
    }
   ],
   "source": [
    "cfg.ckpt_path = CHKPT_PATH\n",
    "\n",
    "# cfg.data.validation_batch_size = 2\n",
    "# cfg.data.dataset_cfg.padd2same_size = True \n",
    "\n",
    "log.info(f\"Instantiating datamodule <{cfg.data._target_}>\")\n",
    "datamodule: LightningDataModule = hydra.utils.instantiate(cfg.data)\n",
    "\n",
    "log.info(f\"Instantiating model <{cfg.model._target_}>\")\n",
    "model: LightningModule = hydra.utils.instantiate(cfg.model).to(device)\n",
    "\n",
    "log.info(f\"Instantiating trainer <{cfg.trainer._target_}>\")\n",
    "trainer: Trainer = Trainer(gpus=1, max_epochs=1, logger=False)"
   ]
  },
  {
   "cell_type": "code",
   "execution_count": 7,
   "metadata": {},
   "outputs": [
    {
     "name": "stderr",
     "output_type": "stream",
     "text": [
      "Restoring states from the checkpoint path at /mrhome/vladyslavz/git/central-sulcus-analysis/logs/leftsulci65-maskeddice-rotate-replicationtest/runs/2023-02-27_14-47-42/checkpoints/epoch-078.ckpt\n",
      "LOCAL_RANK: 0 - CUDA_VISIBLE_DEVICES: [0]\n",
      "Loaded model weights from checkpoint at /mrhome/vladyslavz/git/central-sulcus-analysis/logs/leftsulci65-maskeddice-rotate-replicationtest/runs/2023-02-27_14-47-42/checkpoints/epoch-078.ckpt\n",
      "The dataloader, test_dataloader 0, does not have many workers which may be a bottleneck. Consider increasing the value of the `num_workers` argument` (try 48 which is the number of cpus on this machine) in the `DataLoader` init to improve performance.\n"
     ]
    },
    {
     "data": {
      "application/vnd.jupyter.widget-view+json": {
       "model_id": "97057d065ccf4deba302ff14fea514cf",
       "version_major": 2,
       "version_minor": 0
      },
      "text/plain": [
       "Testing: 0it [00:00, ?it/s]"
      ]
     },
     "metadata": {},
     "output_type": "display_data"
    },
    {
     "name": "stderr",
     "output_type": "stream",
     "text": [
      "No mask value specified for the MaskedLoss.\n",
      "You called `self.log('test/Esubj', ..., logger=True)` but have no logger configured. You can enable one by doing `Trainer(logger=ALogger(...))`\n"
     ]
    },
    {
     "data": {
      "text/html": [
       "<pre style=\"white-space:pre;overflow-x:auto;line-height:normal;font-family:Menlo,'DejaVu Sans Mono',consolas,'Courier New',monospace\">┏━━━━━━━━━━━━━━━━━━━━━━━━━━━┳━━━━━━━━━━━━━━━━━━━━━━━━━━━┓\n",
       "┃<span style=\"font-weight: bold\">        Test metric        </span>┃<span style=\"font-weight: bold\">       DataLoader 0        </span>┃\n",
       "┡━━━━━━━━━━━━━━━━━━━━━━━━━━━╇━━━━━━━━━━━━━━━━━━━━━━━━━━━┩\n",
       "│<span style=\"color: #008080; text-decoration-color: #008080\">     test/Esubj_epoch      </span>│<span style=\"color: #800080; text-decoration-color: #800080\">    0.2994106113910675     </span>│\n",
       "│<span style=\"color: #008080; text-decoration-color: #008080\">         test/dsc          </span>│<span style=\"color: #800080; text-decoration-color: #800080\">    0.5497695207595825     </span>│\n",
       "│<span style=\"color: #008080; text-decoration-color: #008080\">         test/loss         </span>│<span style=\"color: #800080; text-decoration-color: #800080\">    0.4384179413318634     </span>│\n",
       "└───────────────────────────┴───────────────────────────┘\n",
       "</pre>\n"
      ],
      "text/plain": [
       "┏━━━━━━━━━━━━━━━━━━━━━━━━━━━┳━━━━━━━━━━━━━━━━━━━━━━━━━━━┓\n",
       "┃\u001b[1m \u001b[0m\u001b[1m       Test metric       \u001b[0m\u001b[1m \u001b[0m┃\u001b[1m \u001b[0m\u001b[1m      DataLoader 0       \u001b[0m\u001b[1m \u001b[0m┃\n",
       "┡━━━━━━━━━━━━━━━━━━━━━━━━━━━╇━━━━━━━━━━━━━━━━━━━━━━━━━━━┩\n",
       "│\u001b[36m \u001b[0m\u001b[36m    test/Esubj_epoch     \u001b[0m\u001b[36m \u001b[0m│\u001b[35m \u001b[0m\u001b[35m   0.2994106113910675    \u001b[0m\u001b[35m \u001b[0m│\n",
       "│\u001b[36m \u001b[0m\u001b[36m        test/dsc         \u001b[0m\u001b[36m \u001b[0m│\u001b[35m \u001b[0m\u001b[35m   0.5497695207595825    \u001b[0m\u001b[35m \u001b[0m│\n",
       "│\u001b[36m \u001b[0m\u001b[36m        test/loss        \u001b[0m\u001b[36m \u001b[0m│\u001b[35m \u001b[0m\u001b[35m   0.4384179413318634    \u001b[0m\u001b[35m \u001b[0m│\n",
       "└───────────────────────────┴───────────────────────────┘\n"
      ]
     },
     "metadata": {},
     "output_type": "display_data"
    },
    {
     "data": {
      "text/plain": [
       "[{'test/loss': 0.4384179413318634,\n",
       "  'test/dsc': 0.5497695207595825,\n",
       "  'test/Esubj_epoch': 0.2994106113910675}]"
      ]
     },
     "execution_count": 7,
     "metadata": {},
     "output_type": "execute_result"
    }
   ],
   "source": [
    "trainer.test(model, dataloaders=datamodule.val_dataloader(),\n",
    "             ckpt_path=CHKPT_PATH)"
   ]
  },
  {
   "cell_type": "code",
   "execution_count": 8,
   "metadata": {},
   "outputs": [],
   "source": [
    "for batch in datamodule.val_dataloader():\n",
    "    image = batch['image']\n",
    "    target = batch['target']\n",
    "    break\n",
    "\n",
    "model = model.to(device)\n",
    "# make prediction\n",
    "\n",
    "with torch.no_grad():\n",
    "    pred_proba = model(image.to(device))"
   ]
  },
  {
   "cell_type": "code",
   "execution_count": 12,
   "metadata": {},
   "outputs": [
    {
     "data": {
      "text/plain": [
       "tensor(0.5362, device='cuda:0')"
      ]
     },
     "execution_count": 12,
     "metadata": {},
     "output_type": "execute_result"
    }
   ],
   "source": [
    "disc(torch.unsqueeze(pred, dim=0), target.to(device))"
   ]
  },
  {
   "cell_type": "code",
   "execution_count": 21,
   "metadata": {},
   "outputs": [
    {
     "name": "stderr",
     "output_type": "stream",
     "text": [
      "To copy construct from a tensor, it is recommended to use sourceTensor.clone().detach() or sourceTensor.clone().detach().requires_grad_(True), rather than torch.tensor(sourceTensor).\n"
     ]
    },
    {
     "data": {
      "text/plain": [
       "tensor(0.5362, device='cuda:0')"
      ]
     },
     "execution_count": 21,
     "metadata": {},
     "output_type": "execute_result"
    }
   ],
   "source": []
  },
  {
   "cell_type": "code",
   "execution_count": 23,
   "metadata": {},
   "outputs": [
    {
     "data": {
      "text/plain": [
       "torch.Tensor"
      ]
     },
     "execution_count": 23,
     "metadata": {},
     "output_type": "execute_result"
    }
   ],
   "source": [
    "type(disc_score.as_tensor())"
   ]
  },
  {
   "cell_type": "code",
   "execution_count": 24,
   "metadata": {},
   "outputs": [
    {
     "data": {
      "image/png": "[encoded data removed]",
      "text/plain": [
       "<Figure size 800x800 with 2 Axes>"
      ]
     },
     "metadata": {},
     "output_type": "display_data"
    }
   ],
   "source": [
    "pred = torch.argmax((pred_proba[0, :, : :, :]), dim=0).to(device)\n",
    "\n",
    "# set background to 0\n",
    "pred[image[0,0,:,:,:] == 0] = 0\n",
    "\n",
    "disc = Dice(ignore_index=0,\n",
    "            average='macro',\n",
    "            num_classes=65).to(device)\n",
    "\n",
    "disc_score = disc(torch.unsqueeze(pred, dim=0), target.to(device)).as_tensor()\n",
    "\n",
    "\n",
    "sliecnum = 50\n",
    "\n",
    "fig, ax = plt.subplots(1, 2, figsize=(8, 8))\n",
    "\n",
    "ax[0].imshow(image[0, 0, sliecnum, :, :], cmap='gray', alpha=0.5)\n",
    "ax[0].imshow(target[0, sliecnum, :, :], alpha=0.5)\n",
    "ax[0].set_axis_off()\n",
    "ax[0].set_title('Ground truth on image')\n",
    "\n",
    "ax[1].imshow(image[0, 0, sliecnum, :, :], cmap='gray', alpha=0.5)\n",
    "ax[1].imshow(pred[sliecnum, :, :].cpu().numpy(), alpha=0.5)\n",
    "ax[1].set_axis_off()\n",
    "ax[1].set_title(f'Prediction on image\\nwith dsc={disc_score:.3f}')\n",
    "\n",
    "plt.tight_layout()\n",
    "plt.show()"
   ]
  },
  {
   "cell_type": "code",
   "execution_count": null,
   "metadata": {},
   "outputs": [],
   "source": []
  }
 ],
 "metadata": {
  "kernelspec": {
   "display_name": "css",
   "language": "python",
   "name": "python3"
  },
  "language_info": {
   "codemirror_mode": {
    "name": "ipython",
    "version": 3
   },
   "file_extension": ".py",
   "mimetype": "text/x-python",
   "name": "python",
   "nbconvert_exporter": "python",
   "pygments_lexer": "ipython3",
   "version": "3.10.9"
  },
  "orig_nbformat": 4,
  "vscode": {
   "interpreter": {
    "hash": "4cc313e80ba78aa359b4293e6814db2500968638cda5b0940cd65559d56791a3"
   }
  }
 },
 "nbformat": 4,
 "nbformat_minor": 2
}
