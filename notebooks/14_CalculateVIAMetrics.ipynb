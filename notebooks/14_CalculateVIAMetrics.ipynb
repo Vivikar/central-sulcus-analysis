{
 "cells": [
  {
   "cell_type": "code",
   "execution_count": 1,
   "metadata": {},
   "outputs": [],
   "source": [
    "from pathlib import Path\n",
    "import numpy as np\n",
    "import pandas as pd\n",
    "import SimpleITK as sitk\n",
    "from tqdm import tqdm\n",
    "import sys\n",
    "from pathlib import Path\n",
    "\n",
    "sys.path.append(str(Path.cwd().parent))\n",
    "\n",
    "from pathlib import Path\n",
    "import pyrootutils\n",
    "\n",
    "import torch.nn as nn\n",
    "import hydra\n",
    "\n",
    "import numpy as np\n",
    "import torch\n",
    "from omegaconf import  OmegaConf\n",
    "from pytorch_lightning import LightningModule\n",
    "\n",
    "from tqdm import tqdm\n",
    "import pandas as pd\n",
    "import src.utils.default as utils\n",
    "import SimpleITK as sitk\n",
    "sitk.ProcessObject_SetGlobalWarningDisplay(False)\n",
    "from src.data.bvisa_dm import CS_Dataset\n",
    "\n",
    "import SimpleITK as sitk\n",
    "\n",
    "from src.data.bvisa_dm import CS_Dataset\n",
    "\n",
    "import matplotlib.pyplot as plt\n",
    "\n",
    "from monai.metrics import compute_dice, compute_hausdorff_distance, compute_iou"
   ]
  },
  {
   "attachments": {},
   "cell_type": "markdown",
   "metadata": {},
   "source": [
    "# Load segmentation model"
   ]
  },
  {
   "cell_type": "code",
   "execution_count": 2,
   "metadata": {},
   "outputs": [
    {
     "name": "stderr",
     "output_type": "stream",
     "text": [
      "Attribute 'net' is an instance of `nn.Module` and is already saved during checkpointing. It is recommended to ignore them using `self.save_hyperparameters(ignore=['net'])`.\n",
      "Attribute 'loss_function' is an instance of `nn.Module` and is already saved during checkpointing. It is recommended to ignore them using `self.save_hyperparameters(ignore=['loss_function'])`.\n"
     ]
    }
   ],
   "source": [
    "CHKP = Path('/mrhome/vladyslavz/git/central-sulcus-analysis/logs_finetuning/CS1x_noSST_noSynthAugm_monaiUnet/runs/2023-04-26_12-07-40/checkpoints/epoch-077-Esubj-0.2938.ckpt')\n",
    "\n",
    "out_path = Path('/mrhome/vladyslavz/git/central-sulcus-analysis/data/via11/nobackup/segm_results/skull_stripped_images')\n",
    "\n",
    "exp_name = CHKP.parent.parent.parent.parent.name\n",
    "out_path = out_path / exp_name\n",
    "out_path.mkdir(exist_ok=True, parents=True)\n",
    "cgf_path = CHKP.parent.parent / '.hydra' / 'config.yaml'\n",
    "finetune_cfg = OmegaConf.load(cgf_path)\n",
    "\n",
    "segm_model: LightningModule = hydra.utils.instantiate(finetune_cfg.model)\n",
    "# sst_ds = hydra.utils.instantiate(finetune_cfg.data)\n",
    "# print(finetune_cfg.data)\n",
    "segm_model = segm_model.load_from_checkpoint(CHKP).to('cuda')\n",
    "segm_model = segm_model.eval()\n"
   ]
  },
  {
   "attachments": {},
   "cell_type": "markdown",
   "metadata": {},
   "source": [
    "# Load via validation images"
   ]
  },
  {
   "cell_type": "code",
   "execution_count": 3,
   "metadata": {},
   "outputs": [],
   "source": [
    "finetune_cfg.data.dataset_cfg.resample = [1, 1, 1.4]\n"
   ]
  },
  {
   "cell_type": "code",
   "execution_count": 4,
   "metadata": {},
   "outputs": [],
   "source": [
    "croppadd2same_size =  finetune_cfg.data.dataset_cfg.get('padd2same_size') if finetune_cfg.data.dataset_cfg.get('padd2same_size') else finetune_cfg.data.dataset_cfg.get('croppadd2same_size')"
   ]
  },
  {
   "cell_type": "code",
   "execution_count": 5,
   "metadata": {},
   "outputs": [
    {
     "data": {
      "text/plain": [
       "'256-256-124'"
      ]
     },
     "execution_count": 5,
     "metadata": {},
     "output_type": "execute_result"
    }
   ],
   "source": [
    "croppadd2same_size"
   ]
  },
  {
   "cell_type": "code",
   "execution_count": 10,
   "metadata": {},
   "outputs": [],
   "source": [
    "via11DS = CS_Dataset('via11', 'mp2rage_skull_stripped',\n",
    "                    'bvisa_CS', dataset_path='',\n",
    "                     split='only_good',\n",
    "                     crop2content=True,\n",
    "                     preload=False,\n",
    "                     resample=finetune_cfg.data.dataset_cfg.resample,\n",
    "                     croppadd2same_size=croppadd2same_size)"
   ]
  },
  {
   "cell_type": "code",
   "execution_count": 11,
   "metadata": {},
   "outputs": [
    {
     "name": "stderr",
     "output_type": "stream",
     "text": [
      "100%|██████████| 101/101 [02:10<00:00,  1.29s/it]\n"
     ]
    }
   ],
   "source": [
    "experiment_results = []\n",
    "for idx in tqdm(range(len(via11DS))):\n",
    "    sample = via11DS[idx]\n",
    "    target_1hot = torch.nn.functional.one_hot(sample['target'].unsqueeze(0), num_classes=2).permute(0, 4, 1, 2, 3)\n",
    "\n",
    "    with torch.no_grad():\n",
    "        out = segm_model.forward(sample['image'].unsqueeze(0).to('cuda'))\n",
    "    out_bin = torch.argmax(torch.softmax(out, dim=1), dim=1).cpu()\n",
    "    out_1hot = torch.nn.functional.one_hot(out_bin, num_classes=2).permute(0, 4, 1, 2, 3)\n",
    "\n",
    "    dice = compute_dice(out_1hot, target_1hot, include_background=False)\n",
    "    iou = compute_iou(out_1hot, target_1hot, include_background=False)\n",
    "    hausdorff_distance = compute_hausdorff_distance(out_1hot, target_1hot, include_background=False)\n",
    "\n",
    "    res = {'caseid': via11DS.caseids[idx],\n",
    "           'dice': dice.item(),\n",
    "           'iou': iou.item(),\n",
    "           'hausdorff_distance': hausdorff_distance.item()\n",
    "           }\n",
    "    experiment_results.append(res)\n",
    "experiment_results = pd.DataFrame(experiment_results)\n",
    "experiment_results = experiment_results.set_index('caseid')\n",
    "experiment_results.loc['MEAN'] = experiment_results.mean()\n",
    "experiment_results.loc['STD'] = experiment_results.std()\n",
    "experiment_results.to_csv(f'{out_path}/via11_metrics.csv')\n"
   ]
  },
  {
   "cell_type": "code",
   "execution_count": 12,
   "metadata": {},
   "outputs": [],
   "source": [
    "# plt.imshow(out_hot[0, 1, 120, :, :], cmap='gray', alpha=0.5)\n",
    "# plt.imshow(target_1hot[0, 1, 120, :, :], cmap='gray', alpha=0.5)\n",
    "# plt.show()\n",
    "\n",
    "\n",
    "\n",
    "# fig, axs = plt.subplots(1, 1, figsize=(5, 5))\n",
    "# slice = 120\n",
    "# axs.imshow(sample['image'][0, slice, :, :], cmap='gray', alpha=0.5)\n",
    "# axs.imshow(sample['target'][slice, :, :], cmap='gray', alpha=0.5)\n",
    "# plt.show()"
   ]
  },
  {
   "cell_type": "code",
   "execution_count": 13,
   "metadata": {},
   "outputs": [
    {
     "data": {
      "text/html": [
       "<div>\n",
       "<style scoped>\n",
       "    .dataframe tbody tr th:only-of-type {\n",
       "        vertical-align: middle;\n",
       "    }\n",
       "\n",
       "    .dataframe tbody tr th {\n",
       "        vertical-align: top;\n",
       "    }\n",
       "\n",
       "    .dataframe thead th {\n",
       "        text-align: right;\n",
       "    }\n",
       "</style>\n",
       "<table border=\"1\" class=\"dataframe\">\n",
       "  <thead>\n",
       "    <tr style=\"text-align: right;\">\n",
       "      <th></th>\n",
       "      <th>dice</th>\n",
       "      <th>iou</th>\n",
       "      <th>hausdorff_distance</th>\n",
       "    </tr>\n",
       "    <tr>\n",
       "      <th>caseid</th>\n",
       "      <th></th>\n",
       "      <th></th>\n",
       "      <th></th>\n",
       "    </tr>\n",
       "  </thead>\n",
       "  <tbody>\n",
       "    <tr>\n",
       "      <th>sub-via052</th>\n",
       "      <td>0.668216</td>\n",
       "      <td>0.501745</td>\n",
       "      <td>53.823787</td>\n",
       "    </tr>\n",
       "    <tr>\n",
       "      <th>sub-via085</th>\n",
       "      <td>0.689161</td>\n",
       "      <td>0.525740</td>\n",
       "      <td>81.939002</td>\n",
       "    </tr>\n",
       "    <tr>\n",
       "      <th>sub-via118</th>\n",
       "      <td>0.703360</td>\n",
       "      <td>0.542448</td>\n",
       "      <td>8.306624</td>\n",
       "    </tr>\n",
       "    <tr>\n",
       "      <th>sub-via126</th>\n",
       "      <td>0.697913</td>\n",
       "      <td>0.535995</td>\n",
       "      <td>38.742741</td>\n",
       "    </tr>\n",
       "    <tr>\n",
       "      <th>sub-via151</th>\n",
       "      <td>0.708252</td>\n",
       "      <td>0.548290</td>\n",
       "      <td>7.071068</td>\n",
       "    </tr>\n",
       "    <tr>\n",
       "      <th>...</th>\n",
       "      <td>...</td>\n",
       "      <td>...</td>\n",
       "      <td>...</td>\n",
       "    </tr>\n",
       "    <tr>\n",
       "      <th>sub-via499</th>\n",
       "      <td>0.698341</td>\n",
       "      <td>0.536500</td>\n",
       "      <td>85.182158</td>\n",
       "    </tr>\n",
       "    <tr>\n",
       "      <th>sub-via504</th>\n",
       "      <td>0.674827</td>\n",
       "      <td>0.509237</td>\n",
       "      <td>76.635501</td>\n",
       "    </tr>\n",
       "    <tr>\n",
       "      <th>sub-via509</th>\n",
       "      <td>0.683455</td>\n",
       "      <td>0.519127</td>\n",
       "      <td>86.844689</td>\n",
       "    </tr>\n",
       "    <tr>\n",
       "      <th>MEAN</th>\n",
       "      <td>0.675245</td>\n",
       "      <td>0.510323</td>\n",
       "      <td>40.842437</td>\n",
       "    </tr>\n",
       "    <tr>\n",
       "      <th>STD</th>\n",
       "      <td>0.026733</td>\n",
       "      <td>0.030234</td>\n",
       "      <td>30.790321</td>\n",
       "    </tr>\n",
       "  </tbody>\n",
       "</table>\n",
       "<p>103 rows × 3 columns</p>\n",
       "</div>"
      ],
      "text/plain": [
       "                dice       iou  hausdorff_distance\n",
       "caseid                                            \n",
       "sub-via052  0.668216  0.501745           53.823787\n",
       "sub-via085  0.689161  0.525740           81.939002\n",
       "sub-via118  0.703360  0.542448            8.306624\n",
       "sub-via126  0.697913  0.535995           38.742741\n",
       "sub-via151  0.708252  0.548290            7.071068\n",
       "...              ...       ...                 ...\n",
       "sub-via499  0.698341  0.536500           85.182158\n",
       "sub-via504  0.674827  0.509237           76.635501\n",
       "sub-via509  0.683455  0.519127           86.844689\n",
       "MEAN        0.675245  0.510323           40.842437\n",
       "STD         0.026733  0.030234           30.790321\n",
       "\n",
       "[103 rows x 3 columns]"
      ]
     },
     "execution_count": 13,
     "metadata": {},
     "output_type": "execute_result"
    }
   ],
   "source": [
    "experiment_results"
   ]
  },
  {
   "cell_type": "code",
   "execution_count": null,
   "metadata": {},
   "outputs": [
    {
     "ename": "SyntaxError",
     "evalue": "invalid syntax (3826594126.py, line 1)",
     "output_type": "error",
     "traceback": [
      "\u001b[0;36m  Cell \u001b[0;32mIn[8], line 1\u001b[0;36m\u001b[0m\n\u001b[0;31m    0.675440\t0.510343\t14.621249\u001b[0m\n\u001b[0m            \t^\u001b[0m\n\u001b[0;31mSyntaxError\u001b[0m\u001b[0;31m:\u001b[0m invalid syntax\n"
     ]
    }
   ],
   "source": [
    "0.675440\t0.510343\t14.621249\n",
    "STD\t0.021868\t0.024720\t20.695847\n"
   ]
  }
 ],
 "metadata": {
  "kernelspec": {
   "display_name": "css",
   "language": "python",
   "name": "python3"
  },
  "language_info": {
   "codemirror_mode": {
    "name": "ipython",
    "version": 3
   },
   "file_extension": ".py",
   "mimetype": "text/x-python",
   "name": "python",
   "nbconvert_exporter": "python",
   "pygments_lexer": "ipython3",
   "version": "3.10.9"
  },
  "orig_nbformat": 4,
  "vscode": {
   "interpreter": {
    "hash": "4cc313e80ba78aa359b4293e6814db2500968638cda5b0940cd65559d56791a3"
   }
  }
 },
 "nbformat": 4,
 "nbformat_minor": 2
}
