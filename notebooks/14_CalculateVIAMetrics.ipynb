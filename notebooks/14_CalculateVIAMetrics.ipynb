{
 "cells": [
  {
   "cell_type": "code",
   "execution_count": 1,
   "metadata": {},
   "outputs": [],
   "source": [
    "from pathlib import Path\n",
    "import numpy as np\n",
    "import pandas as pd\n",
    "import SimpleITK as sitk\n",
    "from tqdm import tqdm\n",
    "import sys\n",
    "from pathlib import Path\n",
    "\n",
    "sys.path.append(str(Path.cwd().parent))\n",
    "\n",
    "from pathlib import Path\n",
    "import pyrootutils\n",
    "\n",
    "import torch.nn as nn\n",
    "import hydra\n",
    "\n",
    "import numpy as np\n",
    "import torch\n",
    "from omegaconf import  OmegaConf\n",
    "from pytorch_lightning import LightningModule\n",
    "\n",
    "from tqdm import tqdm\n",
    "import pandas as pd\n",
    "import src.utils.default as utils\n",
    "import SimpleITK as sitk\n",
    "sitk.ProcessObject_SetGlobalWarningDisplay(False)\n",
    "from src.data.bvisa_dm import CS_Dataset\n",
    "\n",
    "import SimpleITK as sitk\n",
    "\n",
    "from src.data.bvisa_dm import CS_Dataset\n",
    "\n",
    "import matplotlib.pyplot as plt\n",
    "\n",
    "from monai.metrics import compute_dice, compute_hausdorff_distance, compute_iou"
   ]
  },
  {
   "attachments": {},
   "cell_type": "markdown",
   "metadata": {},
   "source": [
    "# Load segmentation model"
   ]
  },
  {
   "cell_type": "code",
   "execution_count": 2,
   "metadata": {},
   "outputs": [
    {
     "name": "stderr",
     "output_type": "stream",
     "text": [
      "Attribute 'net' is an instance of `nn.Module` and is already saved during checkpointing. It is recommended to ignore them using `self.save_hyperparameters(ignore=['net'])`.\n",
      "Attribute 'loss_function' is an instance of `nn.Module` and is already saved during checkpointing. It is recommended to ignore them using `self.save_hyperparameters(ignore=['loss_function'])`.\n"
     ]
    }
   ],
   "source": [
    "CHKP = Path('/mrhome/vladyslavz/git/central-sulcus-analysis/logs_finetuning/CS2x_noSST_monaiUnet-fullFinetune/runs/2023-04-24_13-28-18/checkpoints/epoch-220-Esubj-0.4944.ckpt')\n",
    "\n",
    "out_path = Path('/mrhome/vladyslavz/git/central-sulcus-analysis/data/via11/nobackup/segm_results/skull_stripped_images')\n",
    "\n",
    "exp_name = CHKP.parent.parent.parent.parent.name\n",
    "out_path = out_path / exp_name\n",
    "out_path.mkdir(exist_ok=True, parents=True)\n",
    "cgf_path = CHKP.parent.parent / '.hydra' / 'config.yaml'\n",
    "finetune_cfg = OmegaConf.load(cgf_path)\n",
    "\n",
    "segm_model: LightningModule = hydra.utils.instantiate(finetune_cfg.model)\n",
    "# sst_ds = hydra.utils.instantiate(finetune_cfg.data)\n",
    "# print(finetune_cfg.data)\n",
    "segm_model = segm_model.load_from_checkpoint(CHKP).to('cuda')\n",
    "segm_model = segm_model.eval()\n"
   ]
  },
  {
   "attachments": {},
   "cell_type": "markdown",
   "metadata": {},
   "source": [
    "# Load via validation images"
   ]
  },
  {
   "cell_type": "code",
   "execution_count": 3,
   "metadata": {},
   "outputs": [],
   "source": [
    "via11DS = CS_Dataset('via11', 'mp2rage_skull_stripped',\n",
    "                    'bvisa_CS', dataset_path='',\n",
    "                     split='only_good',\n",
    "\n",
    "                     preload=False,\n",
    "                     resample=finetune_cfg.data.dataset_cfg.resample,\n",
    "                     padd2same_size=finetune_cfg.data.dataset_cfg.padd2same_size)"
   ]
  },
  {
   "cell_type": "code",
   "execution_count": 4,
   "metadata": {},
   "outputs": [
    {
     "name": "stderr",
     "output_type": "stream",
     "text": [
      " 96%|█████████▌| 97/101 [00:42<00:01,  2.49it/s]the ground truth of class 0 is all 0, this may result in nan/inf distance.\n",
      "100%|██████████| 101/101 [00:43<00:00,  2.30it/s]\n"
     ]
    }
   ],
   "source": [
    "experiment_results = []\n",
    "for idx in tqdm(range(len(via11DS))):\n",
    "    sample = via11DS[idx]\n",
    "    target_1hot = torch.nn.functional.one_hot(sample['target'].unsqueeze(0), num_classes=2).permute(0, 4, 1, 2, 3)\n",
    "\n",
    "    with torch.no_grad():\n",
    "        out = segm_model.forward(sample['image'].unsqueeze(0).to('cuda'))\n",
    "    out_bin = torch.argmax(torch.softmax(out, dim=1), dim=1).cpu()\n",
    "    out_1hot = torch.nn.functional.one_hot(out_bin, num_classes=2).permute(0, 4, 1, 2, 3)\n",
    "\n",
    "    dice = compute_dice(out_1hot, target_1hot, include_background=False)\n",
    "    iou = compute_iou(out_1hot, target_1hot, include_background=False)\n",
    "    hausdorff_distance = compute_hausdorff_distance(out_1hot, target_1hot, include_background=False)\n",
    "\n",
    "    res = {'caseid': via11DS.caseids[idx],\n",
    "           'dice': dice.item(),\n",
    "           'iou': iou.item(),\n",
    "           'hausdorff_distance': hausdorff_distance.item()\n",
    "           }\n",
    "    experiment_results.append(res)\n",
    "experiment_results = pd.DataFrame(experiment_results)\n",
    "experiment_results.to_csv(f'{out_path}/via11_metrics.csv')\n"
   ]
  },
  {
   "cell_type": "code",
   "execution_count": 5,
   "metadata": {},
   "outputs": [],
   "source": [
    "# plt.imshow(out_hot[0, 1, 120, :, :], cmap='gray', alpha=0.5)\n",
    "# plt.imshow(target_1hot[0, 1, 120, :, :], cmap='gray', alpha=0.5)\n",
    "# plt.show()\n",
    "\n",
    "\n",
    "\n",
    "# fig, axs = plt.subplots(1, 1, figsize=(5, 5))\n",
    "# slice = 120\n",
    "# axs.imshow(sample['image'][0, slice, :, :], cmap='gray', alpha=0.5)\n",
    "# axs.imshow(sample['target'][slice, :, :], cmap='gray', alpha=0.5)\n",
    "# plt.show()"
   ]
  },
  {
   "cell_type": "code",
   "execution_count": null,
   "metadata": {},
   "outputs": [],
   "source": []
  }
 ],
 "metadata": {
  "kernelspec": {
   "display_name": "css",
   "language": "python",
   "name": "python3"
  },
  "language_info": {
   "codemirror_mode": {
    "name": "ipython",
    "version": 3
   },
   "file_extension": ".py",
   "mimetype": "text/x-python",
   "name": "python",
   "nbconvert_exporter": "python",
   "pygments_lexer": "ipython3",
   "version": "3.10.9"
  },
  "orig_nbformat": 4
 },
 "nbformat": 4,
 "nbformat_minor": 2
}
