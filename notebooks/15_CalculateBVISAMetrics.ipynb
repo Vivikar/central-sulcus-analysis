{
 "cells": [
  {
   "cell_type": "code",
   "execution_count": 1,
   "metadata": {},
   "outputs": [],
   "source": [
    "from pathlib import Path\n",
    "import numpy as np\n",
    "import pandas as pd\n",
    "import SimpleITK as sitk\n",
    "from tqdm import tqdm\n",
    "import sys\n",
    "from pathlib import Path\n",
    "\n",
    "sys.path.append(str(Path.cwd().parent))\n",
    "\n",
    "from pathlib import Path\n",
    "import pyrootutils\n",
    "\n",
    "import torch.nn as nn\n",
    "import hydra\n",
    "\n",
    "import numpy as np\n",
    "import torch\n",
    "from omegaconf import  OmegaConf\n",
    "from pytorch_lightning import LightningModule\n",
    "\n",
    "from tqdm import tqdm\n",
    "import pandas as pd\n",
    "import src.utils.default as utils\n",
    "import SimpleITK as sitk\n",
    "sitk.ProcessObject_SetGlobalWarningDisplay(False)\n",
    "from src.data.bvisa_dm import CS_Dataset\n",
    "\n",
    "import SimpleITK as sitk\n",
    "\n",
    "from src.data.bvisa_dm import CS_Dataset\n",
    "\n",
    "import matplotlib.pyplot as plt\n",
    "\n",
    "from monai.metrics import compute_dice, compute_hausdorff_distance, compute_iou"
   ]
  },
  {
   "attachments": {},
   "cell_type": "markdown",
   "metadata": {},
   "source": [
    "# Load segmentation model"
   ]
  },
  {
   "cell_type": "code",
   "execution_count": 2,
   "metadata": {},
   "outputs": [
    {
     "name": "stderr",
     "output_type": "stream",
     "text": [
      "Attribute 'net' is an instance of `nn.Module` and is already saved during checkpointing. It is recommended to ignore them using `self.save_hyperparameters(ignore=['net'])`.\n",
      "Attribute 'loss_function' is an instance of `nn.Module` and is already saved during checkpointing. It is recommended to ignore them using `self.save_hyperparameters(ignore=['loss_function'])`.\n"
     ]
    }
   ],
   "source": [
    "CHKP = Path('/mrhome/vladyslavz/git/central-sulcus-analysis/logs_finetuning/CS1x_noSST_SynthAugm_monaiUnet/runs/2023-04-26_12-18-13/checkpoints/epoch-100-Esubj-0.4202.ckpt')\n",
    "\n",
    "out_path = Path('/mrhome/vladyslavz/git/central-sulcus-analysis/data/brainvisa_results/nobackup')\n",
    "\n",
    "exp_name = CHKP.parent.parent.parent.parent.name\n",
    "out_path = out_path / exp_name\n",
    "out_path.mkdir(exist_ok=True, parents=True)\n",
    "cgf_path = CHKP.parent.parent / '.hydra' / 'config.yaml'\n",
    "finetune_cfg = OmegaConf.load(cgf_path)\n",
    "\n",
    "segm_model: LightningModule = hydra.utils.instantiate(finetune_cfg.model)\n",
    "# sst_ds = hydra.utils.instantiate(finetune_cfg.data)\n",
    "# print(finetune_cfg.data)\n",
    "segm_model = segm_model.load_from_checkpoint(CHKP).to('cuda')\n",
    "segm_model = segm_model.eval()\n"
   ]
  },
  {
   "attachments": {},
   "cell_type": "markdown",
   "metadata": {},
   "source": [
    "# Load via validation images"
   ]
  },
  {
   "cell_type": "code",
   "execution_count": 3,
   "metadata": {},
   "outputs": [
    {
     "data": {
      "text/plain": [
       "{'task_name': 'CS1x_noSST_SynthAugm_monaiUnet', 'tags': ['dev'], 'train': True, 'test': False, 'ckpt_path': None, 'seed': None, 'data': {'_target_': 'src.data.bvisa_augm_dm.CS_DataModule', 'dataset_cfg': {'dataset': 'bvisa', 'target': 'central_sulcus', 'dataset_path': '/mrhome/vladyslavz/git/central-sulcus-analysis/data/brainvisa_augm/nobackup/generated', 'use_half_brain': False, 'resample': None, 'crop2content': False, 'padd2same_size': '256-256-124', 'regresssion': False}, 'train_batch_size': 1, 'validation_batch_size': 1, 'num_workers': 0, 'double_validation': True}, 'model': {'_target_': 'src.models.UNet3D.BasicUNet3D', 'lr': 0.0005, 'out_channels': 2, 'extra_loss': None, 'optimizer': {'_target_': 'torch.optim.Adam', '_partial_': True, 'lr': 0.0005}, 'scheduler': {'_target_': 'torch.optim.lr_scheduler.ReduceLROnPlateau', '_partial_': True, 'mode': 'min', 'factor': 0.1, 'patience': 5}, 'monai': True, 'freeze_encoder': False, 'segm_encoder': False, 'encoder_chkp': None, 'net': {'_target_': 'monai.networks.nets.basic_unet.BasicUNet', 'spatial_dims': 3, 'in_channels': 1, 'out_channels': 2, 'features': [16, 32, 64, 128, 256, 32]}, 'loss_function': {'_target_': 'monai.losses.TverskyLoss', 'to_onehot_y': True, 'softmax': True, 'include_background': True}}, 'callbacks': {'model_checkpoint': {'_target_': 'pytorch_lightning.callbacks.ModelCheckpoint', 'dirpath': '${paths.output_dir}/checkpoints', 'filename': 'epoch-{epoch:03d}-Esubj-{val/Esubj:.4f}', 'monitor': 'val/dsc', 'verbose': False, 'save_last': True, 'save_top_k': 3, 'mode': 'max', 'auto_insert_metric_name': False, 'save_weights_only': False, 'every_n_train_steps': None, 'train_time_interval': None, 'every_n_epochs': None, 'save_on_train_epoch_end': None}, 'rich_progress_bar': {'_target_': 'pytorch_lightning.callbacks.RichProgressBar'}, 'device_stat': {'_target_': 'pytorch_lightning.callbacks.DeviceStatsMonitor'}, 'early_stopping': {'monitor': 'val/dsc', 'patience': 100, 'mode': 'max'}, 'model_summary': {'max_depth': -1}}, 'logger': {'tensorboard': {'_target_': 'pytorch_lightning.loggers.tensorboard.TensorBoardLogger', 'save_dir': '${paths.output_dir}/tensorboard/', 'name': None, 'log_graph': False, 'default_hp_metric': True, 'prefix': ''}}, 'trainer': {'_target_': 'pytorch_lightning.Trainer', 'default_root_dir': '${paths.output_dir}', 'min_epochs': 1, 'max_epochs': 300, 'profiler': 'simple', 'accelerator': 'gpu', 'devices': 1, 'log_every_n_steps': 5, 'check_val_every_n_epoch': 1, 'deterministic': False, 'auto_lr_find': False}, 'paths': {'root_dir': '${oc.env:PROJECT_ROOT}', 'data_dir': '${paths.root_dir}/data/', 'log_dir': '${paths.root_dir}/logs_finetuning/', 'output_dir': '${hydra:runtime.output_dir}', 'work_dir': '${hydra:runtime.cwd}'}, 'extras': {'ignore_warnings': False, 'enforce_tags': False, 'print_config': False}}"
      ]
     },
     "execution_count": 3,
     "metadata": {},
     "output_type": "execute_result"
    }
   ],
   "source": [
    "finetune_cfg"
   ]
  },
  {
   "cell_type": "code",
   "execution_count": 5,
   "metadata": {},
   "outputs": [],
   "source": [
    "via11DS = CS_Dataset('bvisa', 'skull_stripped',\n",
    "                     'central_sulcus',\n",
    "                     dataset_path='/mrhome/vladyslavz/git/central-sulcus-analysis/data/brainvisa',\n",
    "                     split='validation',\n",
    "                     preload=False,\n",
    "                     resample=finetune_cfg.data.dataset_cfg.resample,\n",
    "                     croppadd2same_size=finetune_cfg.data.dataset_cfg.padd2same_size)"
   ]
  },
  {
   "cell_type": "code",
   "execution_count": 6,
   "metadata": {},
   "outputs": [
    {
     "name": "stderr",
     "output_type": "stream",
     "text": [
      "100%|██████████| 12/12 [00:24<00:00,  2.08s/it]\n"
     ]
    }
   ],
   "source": [
    "experiment_results = []\n",
    "for idx in tqdm(range(len(via11DS))):\n",
    "    sample = via11DS[idx]\n",
    "    target_1hot = torch.nn.functional.one_hot(sample['target'].unsqueeze(0), num_classes=2).permute(0, 4, 1, 2, 3)\n",
    "\n",
    "    with torch.no_grad():\n",
    "        out = segm_model.forward(sample['image'].unsqueeze(0).to('cuda'))\n",
    "    out_bin = torch.argmax(torch.softmax(out, dim=1), dim=1).cpu()\n",
    "    out_1hot = torch.nn.functional.one_hot(out_bin, num_classes=2).permute(0, 4, 1, 2, 3)\n",
    "\n",
    "    dice = compute_dice(out_1hot, target_1hot, include_background=False)\n",
    "    iou = compute_iou(out_1hot, target_1hot, include_background=False)\n",
    "    hausdorff_distance = compute_hausdorff_distance(out_1hot, target_1hot, include_background=False)\n",
    "\n",
    "    res = {'caseid': via11DS.caseids[idx],\n",
    "           'dice': dice.item(),\n",
    "           'iou': iou.item(),\n",
    "           'hausdorff_distance': hausdorff_distance.item()\n",
    "           }\n",
    "    experiment_results.append(res)\n",
    "experiment_results = pd.DataFrame(experiment_results)\n",
    "experiment_results = experiment_results.set_index('caseid')\n",
    "experiment_results.loc['MEAN'] = experiment_results.mean()\n",
    "experiment_results.loc['STD'] = experiment_results.std()\n",
    "experiment_results.to_csv(f'{out_path}/bvisa_metrics.csv')\n"
   ]
  },
  {
   "cell_type": "code",
   "execution_count": 7,
   "metadata": {},
   "outputs": [],
   "source": [
    "# plt.imshow(out_hot[0, 1, 120, :, :], cmap='gray', alpha=0.5)\n",
    "# plt.imshow(target_1hot[0, 1, 120, :, :], cmap='gray', alpha=0.5)\n",
    "# plt.show()\n",
    "\n",
    "\n",
    "\n",
    "# fig, axs = plt.subplots(1, 1, figsize=(5, 5))\n",
    "# slice = 120\n",
    "# axs.imshow(sample['image'][0, slice, :, :], cmap='gray', alpha=0.5)\n",
    "# axs.imshow(sample['target'][slice, :, :], cmap='gray', alpha=0.5)\n",
    "# plt.show()"
   ]
  },
  {
   "cell_type": "code",
   "execution_count": 8,
   "metadata": {},
   "outputs": [
    {
     "data": {
      "text/html": [
       "<div>\n",
       "<style scoped>\n",
       "    .dataframe tbody tr th:only-of-type {\n",
       "        vertical-align: middle;\n",
       "    }\n",
       "\n",
       "    .dataframe tbody tr th {\n",
       "        vertical-align: top;\n",
       "    }\n",
       "\n",
       "    .dataframe thead th {\n",
       "        text-align: right;\n",
       "    }\n",
       "</style>\n",
       "<table border=\"1\" class=\"dataframe\">\n",
       "  <thead>\n",
       "    <tr style=\"text-align: right;\">\n",
       "      <th></th>\n",
       "      <th>dice</th>\n",
       "      <th>iou</th>\n",
       "      <th>hausdorff_distance</th>\n",
       "    </tr>\n",
       "    <tr>\n",
       "      <th>caseid</th>\n",
       "      <th></th>\n",
       "      <th></th>\n",
       "      <th></th>\n",
       "    </tr>\n",
       "  </thead>\n",
       "  <tbody>\n",
       "    <tr>\n",
       "      <th>eros</th>\n",
       "      <td>0.690456</td>\n",
       "      <td>0.527249</td>\n",
       "      <td>7.211103</td>\n",
       "    </tr>\n",
       "    <tr>\n",
       "      <th>icbm320T</th>\n",
       "      <td>0.710104</td>\n",
       "      <td>0.550512</td>\n",
       "      <td>8.246211</td>\n",
       "    </tr>\n",
       "    <tr>\n",
       "      <th>moon</th>\n",
       "      <td>0.697471</td>\n",
       "      <td>0.535475</td>\n",
       "      <td>2.236068</td>\n",
       "    </tr>\n",
       "    <tr>\n",
       "      <th>ra</th>\n",
       "      <td>0.654259</td>\n",
       "      <td>0.486171</td>\n",
       "      <td>7.280110</td>\n",
       "    </tr>\n",
       "    <tr>\n",
       "      <th>s12158</th>\n",
       "      <td>0.662114</td>\n",
       "      <td>0.494895</td>\n",
       "      <td>7.071068</td>\n",
       "    </tr>\n",
       "    <tr>\n",
       "      <th>s12258</th>\n",
       "      <td>0.645196</td>\n",
       "      <td>0.476229</td>\n",
       "      <td>10.392305</td>\n",
       "    </tr>\n",
       "    <tr>\n",
       "      <th>s12277</th>\n",
       "      <td>0.633105</td>\n",
       "      <td>0.463171</td>\n",
       "      <td>17.146428</td>\n",
       "    </tr>\n",
       "    <tr>\n",
       "      <th>shiva</th>\n",
       "      <td>0.638817</td>\n",
       "      <td>0.469310</td>\n",
       "      <td>12.884099</td>\n",
       "    </tr>\n",
       "    <tr>\n",
       "      <th>sujet04</th>\n",
       "      <td>0.679640</td>\n",
       "      <td>0.514738</td>\n",
       "      <td>7.615773</td>\n",
       "    </tr>\n",
       "    <tr>\n",
       "      <th>sujet05</th>\n",
       "      <td>0.651243</td>\n",
       "      <td>0.482847</td>\n",
       "      <td>7.000000</td>\n",
       "    </tr>\n",
       "    <tr>\n",
       "      <th>sujet11</th>\n",
       "      <td>0.680879</td>\n",
       "      <td>0.516161</td>\n",
       "      <td>5.477226</td>\n",
       "    </tr>\n",
       "    <tr>\n",
       "      <th>zeus</th>\n",
       "      <td>0.675310</td>\n",
       "      <td>0.509787</td>\n",
       "      <td>8.774964</td>\n",
       "    </tr>\n",
       "    <tr>\n",
       "      <th>MEAN</th>\n",
       "      <td>0.668216</td>\n",
       "      <td>0.502212</td>\n",
       "      <td>8.444613</td>\n",
       "    </tr>\n",
       "    <tr>\n",
       "      <th>STD</th>\n",
       "      <td>0.023440</td>\n",
       "      <td>0.026525</td>\n",
       "      <td>3.585412</td>\n",
       "    </tr>\n",
       "  </tbody>\n",
       "</table>\n",
       "</div>"
      ],
      "text/plain": [
       "              dice       iou  hausdorff_distance\n",
       "caseid                                          \n",
       "eros      0.690456  0.527249            7.211103\n",
       "icbm320T  0.710104  0.550512            8.246211\n",
       "moon      0.697471  0.535475            2.236068\n",
       "ra        0.654259  0.486171            7.280110\n",
       "s12158    0.662114  0.494895            7.071068\n",
       "s12258    0.645196  0.476229           10.392305\n",
       "s12277    0.633105  0.463171           17.146428\n",
       "shiva     0.638817  0.469310           12.884099\n",
       "sujet04   0.679640  0.514738            7.615773\n",
       "sujet05   0.651243  0.482847            7.000000\n",
       "sujet11   0.680879  0.516161            5.477226\n",
       "zeus      0.675310  0.509787            8.774964\n",
       "MEAN      0.668216  0.502212            8.444613\n",
       "STD       0.023440  0.026525            3.585412"
      ]
     },
     "execution_count": 8,
     "metadata": {},
     "output_type": "execute_result"
    }
   ],
   "source": [
    "experiment_results"
   ]
  },
  {
   "cell_type": "code",
   "execution_count": null,
   "metadata": {},
   "outputs": [],
   "source": []
  }
 ],
 "metadata": {
  "kernelspec": {
   "display_name": "css",
   "language": "python",
   "name": "python3"
  },
  "language_info": {
   "codemirror_mode": {
    "name": "ipython",
    "version": 3
   },
   "file_extension": ".py",
   "mimetype": "text/x-python",
   "name": "python",
   "nbconvert_exporter": "python",
   "pygments_lexer": "ipython3",
   "version": "3.10.9"
  },
  "orig_nbformat": 4
 },
 "nbformat": 4,
 "nbformat_minor": 2
}
