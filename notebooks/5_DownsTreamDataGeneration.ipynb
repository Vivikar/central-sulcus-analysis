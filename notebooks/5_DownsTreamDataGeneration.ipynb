{
 "cells": [
  {
   "cell_type": "code",
   "execution_count": 1,
   "metadata": {},
   "outputs": [],
   "source": [
    "from pathlib import Path\n",
    "from sklearn.cluster import KMeans\n",
    "import numpy as np\n",
    "import SimpleITK as sitk\n",
    "\n",
    "import matplotlib.pyplot as plt\n",
    "\n",
    "from tqdm import tqdm"
   ]
  },
  {
   "cell_type": "code",
   "execution_count": 26,
   "metadata": {},
   "outputs": [],
   "source": [
    "def sitk_cropp_padd_img_to_size(img, size=(256, 256, 124), padding_value=0):\n",
    "    padding_filter = sitk.ConstantPadImageFilter()\n",
    "    cropping_filter = sitk.CropImageFilter()\n",
    "    for dim in range(len(img.GetSize())):\n",
    "        size_origin = [0, 0, 0]\n",
    "        size_end = [0, 0, 0]\n",
    "        padding_size = size[dim] - img.GetSize()[dim]\n",
    "        \n",
    "        # padd image\n",
    "        if padding_size>0:\n",
    "            padding_size = abs(padding_size)\n",
    "            size_origin[dim] = padding_size//2\n",
    "            size_end[dim] = padding_size - size_origin[dim]\n",
    "            # padd image from the left\n",
    "            img = padding_filter.Execute(img, size_origin, size_end, padding_value)\n",
    "        \n",
    "        # crop the image\n",
    "        elif padding_size < 0:\n",
    "            padding_size = abs(padding_size)\n",
    "            size_origin[dim] = padding_size//2\n",
    "            size_end[dim] = padding_size - size_origin[dim]\n",
    "            img = cropping_filter.Execute(img, size_origin, size_end)\n",
    "    return img"
   ]
  },
  {
   "cell_type": "code",
   "execution_count": 27,
   "metadata": {},
   "outputs": [
    {
     "name": "stderr",
     "output_type": "stream",
     "text": [
      "100%|██████████| 62/62 [00:17<00:00,  3.50it/s]\n"
     ]
    }
   ],
   "source": [
    "tissues_labels = Path('/mrhome/vladyslavz/git/central-sulcus-analysis/data/brainvisa_augm/nobackup/tissues').glob('*.nii.gz')\n",
    "\n",
    "for tissue_path in tqdm(tissues_labels, total=62):\n",
    "    tissues = sitk.ReadImage(str(tissue_path))\n",
    "    sulci_path = str(tissue_path).replace('tissues', 'sulci')\n",
    "    sulci_img = sitk.ReadImage(sulci_path)\n",
    "    sulci = sitk.GetArrayFromImage(sulci_img)\n",
    "    \n",
    "    tissues = sitk.GetArrayFromImage(tissues)\n",
    "\n",
    "    # encode tissues\n",
    "    tissues[tissues == 125] = 1000\n",
    "    tissues[tissues == 126] = 2000\n",
    "    tissues[tissues == 127] = 3000\n",
    "    tissues[tissues == 128] = 4000\n",
    "    \n",
    "    tissue_labmap = sitk.GetImageFromArray(sulci + tissues)\n",
    "    tissue_labmap.CopyInformation(sulci_img)\n",
    "    \n",
    "    # padd images\n",
    "    if sulci_img.GetSize() != (256, 256, 124):\n",
    "        tissue_labmap = sitk_padd_img_to_size(tissue_labmap)\n",
    "    \n",
    "    sitk.WriteImage(tissue_labmap, str(tissue_path).replace('tissues', 'sulci_tissues'))\n",
    "    \n",
    "\n"
   ]
  },
  {
   "cell_type": "code",
   "execution_count": null,
   "metadata": {},
   "outputs": [],
   "source": []
  },
  {
   "cell_type": "code",
   "execution_count": 7,
   "metadata": {},
   "outputs": [
    {
     "data": {
      "text/plain": [
       "(124, 256, 256)"
      ]
     },
     "execution_count": 7,
     "metadata": {},
     "output_type": "execute_result"
    }
   ],
   "source": [
    "tissues.shape"
   ]
  },
  {
   "attachments": {},
   "cell_type": "markdown",
   "metadata": {},
   "source": [
    "### Marking Genereation Labels"
   ]
  },
  {
   "cell_type": "code",
   "execution_count": 67,
   "metadata": {},
   "outputs": [
    {
     "data": {
      "text/plain": [
       "array([  0,  14,  15,  16,  24,  72,  85, 502, 506, 507, 508, 509, 511,\n",
       "       512, 514, 515, 516, 530,   2,   3,   4,   5,   7,   8,  10,  11,\n",
       "        12,  13,  17,  18,  25,  26,  28,  30, 136, 137,  41,  42,  43,\n",
       "        44,  46,  47,  49,  50,  51,  52,  53,  54,  57,  58,  60,  62,\n",
       "       163, 164], dtype=int32)"
      ]
     },
     "execution_count": 67,
     "metadata": {},
     "output_type": "execute_result"
    }
   ],
   "source": [
    "np.load('/mrhome/vladyslavz/git/SynthSeg/data/labels_classes_priors/generation_labels.npy')"
   ]
  },
  {
   "cell_type": "code",
   "execution_count": 68,
   "metadata": {},
   "outputs": [
    {
     "name": "stdout",
     "output_type": "stream",
     "text": [
      "600\n",
      "[   0    1    3    4    5    6    7    8    9   10   11   12   13   14\n",
      "   15   16   17   18   19   20   21   22   23   25   26   28   29   30\n",
      "   31   32   33   34   35   36   37   38   39   40   41   42   43   44\n",
      "   45   46   48   49   50   51   52   53   54   57   58   59   60   61\n",
      "   62   63   64   65   66   67   68   69   70   71   72   73   74   75\n",
      "   76   77   78   79   80   81   82   83   84   85   86   87   88   89\n",
      "   90   91   92   93   94   95   96   97   98   99  101  102  103  104\n",
      "  105  106  107  108  109  110  111  112  113  114  115  116  117  118\n",
      "  119  121  122  123  124  127  128  134 1000 1001 1003 1004 1005 1006\n",
      " 1007 1008 1009 1010 1011 1012 1013 1014 1015 1016 1017 1018 1019 1020\n",
      " 1021 1022 1023 1025 1026 1028 1029 1030 1031 1032 1033 1034 1035 1036\n",
      " 1037 1038 1039 1040 1041 1042 1043 1044 1045 1046 1048 1049 1050 1051\n",
      " 1052 1053 1054 1057 1058 1059 1060 1061 1062 1063 1064 1065 1066 1067\n",
      " 1068 1069 1070 1071 1072 1073 1074 1075 1076 1077 1078 1079 1080 1081\n",
      " 1082 1083 1084 1085 1086 1087 1088 1089 1090 1091 1092 1093 1094 1095\n",
      " 1096 1097 1098 1099 1101 1102 1103 1104 1105 1106 1107 1108 1109 1110\n",
      " 1111 1112 1113 1114 1115 1116 1117 1118 1119 1121 1122 1123 1124 1127\n",
      " 1128 1134 2000 2001 2003 2004 2005 2006 2007 2008 2009 2010 2011 2012\n",
      " 2013 2014 2015 2016 2017 2018 2019 2020 2021 2022 2023 2025 2026 2028\n",
      " 2029 2030 2031 2032 2033 2034 2035 2036 2037 2038 2039 2040 2041 2042\n",
      " 2043 2044 2045 2046 2048 2049 2050 2051 2052 2053 2054 2057 2058 2059\n",
      " 2060 2061 2062 2063 2064 2065 2066 2067 2068 2069 2070 2071 2072 2073\n",
      " 2074 2075 2076 2077 2078 2079 2080 2081 2082 2083 2084 2085 2086 2087\n",
      " 2088 2089 2090 2091 2092 2093 2094 2095 2096 2097 2098 2099 2101 2102\n",
      " 2103 2104 2105 2106 2107 2108 2109 2110 2111 2112 2113 2114 2115 2116\n",
      " 2117 2118 2119 2121 2122 2123 2124 2127 2128 2134 3000 3001 3003 3004\n",
      " 3005 3006 3007 3008 3009 3010 3011 3012 3013 3014 3015 3016 3017 3018\n",
      " 3019 3020 3021 3022 3023 3025 3026 3028 3029 3030 3031 3032 3033 3034\n",
      " 3035 3036 3037 3038 3039 3040 3041 3042 3043 3044 3045 3046 3048 3049\n",
      " 3050 3051 3052 3053 3054 3057 3058 3059 3060 3061 3062 3063 3064 3065\n",
      " 3066 3067 3068 3069 3070 3071 3072 3073 3074 3075 3076 3077 3078 3079\n",
      " 3080 3081 3082 3083 3084 3085 3086 3087 3088 3089 3090 3091 3092 3093\n",
      " 3094 3095 3096 3097 3098 3099 3101 3102 3103 3104 3105 3106 3107 3108\n",
      " 3109 3110 3111 3112 3113 3114 3115 3116 3117 3118 3119 3121 3122 3123\n",
      " 3124 3127 3128 3134 4000 4001 4003 4004 4005 4006 4007 4008 4009 4010\n",
      " 4011 4012 4013 4014 4015 4016 4017 4018 4019 4020 4021 4022 4023 4025\n",
      " 4026 4028 4029 4030 4031 4032 4033 4034 4035 4036 4037 4038 4039 4040\n",
      " 4041 4042 4043 4044 4045 4046 4048 4049 4050 4051 4052 4053 4054 4057\n",
      " 4058 4059 4060 4061 4062 4063 4064 4065 4066 4067 4068 4069 4070 4071\n",
      " 4072 4073 4074 4075 4076 4077 4078 4079 4080 4081 4082 4083 4084 4085\n",
      " 4086 4087 4088 4089 4090 4091 4092 4093 4094 4095 4096 4097 4098 4099\n",
      " 4101 4102 4103 4104 4105 4106 4107 4108 4109 4110 4111 4112 4113 4114\n",
      " 4115 4116 4117 4118 4119 4121 4122 4123 4124 4127 4128 4134]\n"
     ]
    }
   ],
   "source": [
    "# consider all possible intersections and combinations of sulci+tissue for genereation\n",
    "generation_labels = np.concatenate([np.unique(sulci), np.unique(sulci)[:]+1000, np.unique(sulci)[:]+2000, np.unique(sulci)[:]+3000, np.unique(sulci)[:]+4000])\n",
    "print(len(generation_labels))\n",
    "print(generation_labels)\n",
    "-++\n",
    "np.save('/mrhome/vladyslavz/git/central-sulcus-analysis/data/brainvisa_augm/generation_labels.npy', generation_labels)"
   ]
  },
  {
   "cell_type": "code",
   "execution_count": 69,
   "metadata": {},
   "outputs": [
    {
     "data": {
      "text/plain": [
       "120"
      ]
     },
     "execution_count": 69,
     "metadata": {},
     "output_type": "execute_result"
    }
   ],
   "source": [
    "# All labels of sulci without tissue intersection are CSF and are unsided + 0 labels\n",
    "n_neutral_labels = sum(generation_labels<1000)\n",
    "n_neutral_labels"
   ]
  },
  {
   "cell_type": "code",
   "execution_count": 76,
   "metadata": {},
   "outputs": [
    {
     "name": "stdout",
     "output_type": "stream",
     "text": [
      "0\n"
     ]
    }
   ],
   "source": [
    "WM_mask = (generation_labels < 3000) & (generation_labels >= 1000) \n",
    "GM_mask = generation_labels >= 3000\n",
    "\n",
    "print(sum(GM_mask&WM_mask))\n",
    "generation_classes = (GM_mask*2 + WM_mask*1).astype(int) # following convention of SynthSeg\n",
    "np.save('/mrhome/vladyslavz/git/central-sulcus-analysis/data/brainvisa_augm/generation_classes.npy', generation_classes)"
   ]
  },
  {
   "cell_type": "code",
   "execution_count": 71,
   "metadata": {},
   "outputs": [
    {
     "name": "stdout",
     "output_type": "stream",
     "text": [
      "[[  7.          44.43852646 160.29378443  96.29526152 135.95211069\n",
      "   88.15506261 129.52385575 124.05468047 151.79945792 142.53280645\n",
      "  116.10473738  86.83433108  59.62853626 129.78496267 126.37696696\n",
      "   18.11697145  93.90532281 117.13488728  69.91289748 113.7338777\n",
      "   68.23628889  48.42668289  30.19849003  94.24268292 144.4557237 ]\n",
      " [  1.75        11.21000137  21.65584467  12.17831661  13.41123838\n",
      "   10.55970441  17.68538813  15.72768241  19.51073198  16.05725779\n",
      "   14.8217615   17.47509896  10.4086569   12.2351825   24.79729954\n",
      "    3.8432211    9.12899967  11.66694586   9.24940558  12.41801427\n",
      "   11.09552493   8.56551669   6.86072804  18.31996116  16.31849085]]\n"
     ]
    }
   ],
   "source": [
    "prior_means = np.load('/mrhome/vladyslavz/git/SynthSeg/data/labels_classes_priors/prior_means_t1.npy')\n",
    "prior_stds = np.load('/mrhome/vladyslavz/git/SynthSeg/data/labels_classes_priors/prior_stds_t1.npy')\n",
    "\n",
    "print(prior_means)\n",
    "\n",
    "prior_means = prior_means[:, [0, 3, 4]]\n",
    "prior_stds = prior_stds[:, [0, 3, 4]]# background,GM, WM\n",
    "\n",
    "np.save('/mrhome/vladyslavz/git/central-sulcus-analysis/data/brainvisa_augm/prior_means.npy', prior_means)\n",
    "np.save('/mrhome/vladyslavz/git/central-sulcus-analysis/data/brainvisa_augm/prior_stds.npy', prior_stds)"
   ]
  },
  {
   "cell_type": "code",
   "execution_count": 72,
   "metadata": {},
   "outputs": [
    {
     "data": {
      "text/plain": [
       "array([[  7.        ,  96.29526152, 135.95211069],\n",
       "       [  1.75      ,  12.17831661,  13.41123838]])"
      ]
     },
     "execution_count": 72,
     "metadata": {},
     "output_type": "execute_result"
    }
   ],
   "source": [
    "prior_means"
   ]
  },
  {
   "cell_type": "code",
   "execution_count": 73,
   "metadata": {},
   "outputs": [
    {
     "data": {
      "text/plain": [
       "array([0, 0, 0, 0, 0, 0, 0, 0, 0, 0, 0, 0, 0, 0, 0, 0, 0, 0, 0, 0, 0, 0,\n",
       "       0, 0, 0, 0, 0, 0, 0, 0, 0, 0, 0, 0, 0, 0, 0, 0, 0, 0, 0, 0, 0, 0,\n",
       "       0, 0, 0, 0, 0, 0, 0, 0, 0, 0, 0, 0, 0, 0, 0, 0, 0, 0, 0, 0, 0, 0,\n",
       "       0, 0, 0, 0, 0, 0, 0, 0, 0, 0, 0, 0, 0, 0, 0, 0, 0, 0, 0, 0, 0, 0,\n",
       "       0, 0, 0, 0, 0, 0, 0, 0, 0, 0, 0, 0, 0, 0, 0, 0, 0, 0, 0, 0, 0, 0,\n",
       "       0, 0, 0, 0, 0, 0, 0, 0, 0, 0, 0, 1, 1, 1, 1, 1, 1, 1, 1, 1, 1, 1,\n",
       "       1, 1, 1, 1, 1, 1, 1, 1, 1, 1, 1, 1, 1, 1, 1, 1, 1, 1, 1, 1, 1, 1,\n",
       "       1, 1, 1, 1, 1, 1, 1, 1, 1, 1, 1, 1, 1, 1, 1, 1, 1, 1, 1, 1, 1, 1,\n",
       "       1, 1, 1, 1, 1, 1, 1, 1, 1, 1, 1, 1, 1, 1, 1, 1, 1, 1, 1, 1, 1, 1,\n",
       "       1, 1, 1, 1, 1, 1, 1, 1, 1, 1, 1, 1, 1, 1, 1, 1, 1, 1, 1, 1, 1, 1,\n",
       "       1, 1, 1, 1, 1, 1, 1, 1, 1, 1, 1, 1, 1, 1, 1, 1, 1, 1, 1, 1, 1, 1,\n",
       "       1, 1, 1, 1, 1, 1, 1, 1, 1, 1, 1, 1, 1, 1, 1, 1, 1, 1, 1, 1, 1, 1,\n",
       "       1, 1, 1, 1, 1, 1, 1, 1, 1, 1, 1, 1, 1, 1, 1, 1, 1, 1, 1, 1, 1, 1,\n",
       "       1, 1, 1, 1, 1, 1, 1, 1, 1, 1, 1, 1, 1, 1, 1, 1, 1, 1, 1, 1, 1, 1,\n",
       "       1, 1, 1, 1, 1, 1, 1, 1, 1, 1, 1, 1, 1, 1, 1, 1, 1, 1, 1, 1, 1, 1,\n",
       "       1, 1, 1, 1, 1, 1, 1, 1, 1, 1, 1, 1, 1, 1, 1, 1, 1, 1, 1, 1, 1, 1,\n",
       "       1, 1, 1, 1, 1, 1, 1, 1, 2, 2, 2, 2, 2, 2, 2, 2, 2, 2, 2, 2, 2, 2,\n",
       "       2, 2, 2, 2, 2, 2, 2, 2, 2, 2, 2, 2, 2, 2, 2, 2, 2, 2, 2, 2, 2, 2,\n",
       "       2, 2, 2, 2, 2, 2, 2, 2, 2, 2, 2, 2, 2, 2, 2, 2, 2, 2, 2, 2, 2, 2,\n",
       "       2, 2, 2, 2, 2, 2, 2, 2, 2, 2, 2, 2, 2, 2, 2, 2, 2, 2, 2, 2, 2, 2,\n",
       "       2, 2, 2, 2, 2, 2, 2, 2, 2, 2, 2, 2, 2, 2, 2, 2, 2, 2, 2, 2, 2, 2,\n",
       "       2, 2, 2, 2, 2, 2, 2, 2, 2, 2, 2, 2, 2, 2, 2, 2, 2, 2, 2, 2, 2, 2,\n",
       "       2, 2, 2, 2, 2, 2, 2, 2, 2, 2, 2, 2, 2, 2, 2, 2, 2, 2, 2, 2, 2, 2,\n",
       "       2, 2, 2, 2, 2, 2, 2, 2, 2, 2, 2, 2, 2, 2, 2, 2, 2, 2, 2, 2, 2, 2,\n",
       "       2, 2, 2, 2, 2, 2, 2, 2, 2, 2, 2, 2, 2, 2, 2, 2, 2, 2, 2, 2, 2, 2,\n",
       "       2, 2, 2, 2, 2, 2, 2, 2, 2, 2, 2, 2, 2, 2, 2, 2, 2, 2, 2, 2, 2, 2,\n",
       "       2, 2, 2, 2, 2, 2, 2, 2, 2, 2, 2, 2, 2, 2, 2, 2, 2, 2, 2, 2, 2, 2,\n",
       "       2, 2, 2, 2, 2, 2])"
      ]
     },
     "execution_count": 73,
     "metadata": {},
     "output_type": "execute_result"
    }
   ],
   "source": [
    "generation_classes"
   ]
  },
  {
   "cell_type": "code",
   "execution_count": 74,
   "metadata": {},
   "outputs": [
    {
     "data": {
      "text/plain": [
       "array([  0,   1,   3,   4,   5,   6,   7,   8,   9,  10,  11,  12,  13,\n",
       "        14,  15,  16,  17,  18,  19,  20,  21,  22,  23,  25,  26,  28,\n",
       "        29,  30,  31,  32,  33,  34,  35,  36,  37,  38,  39,  40,  41,\n",
       "        42,  43,  44,  45,  46,  48,  49,  50,  51,  52,  53,  54,  57,\n",
       "        58,  59,  60,  61,  62,  63,  64,  65,  66,  67,  68,  69,  70,\n",
       "        71,  72,  73,  74,  75,  76,  77,  78,  79,  80,  81,  82,  83,\n",
       "        84,  85,  86,  87,  88,  89,  90,  91,  92,  93,  94,  95,  96,\n",
       "        97,  98,  99, 101, 102, 103, 104, 105, 106, 107, 108, 109, 110,\n",
       "       111, 112, 113, 114, 115, 116, 117, 118, 119, 121, 122, 123, 124,\n",
       "       127, 128, 134], dtype=int16)"
      ]
     },
     "execution_count": 74,
     "metadata": {},
     "output_type": "execute_result"
    }
   ],
   "source": [
    "np.unique(sulci)"
   ]
  },
  {
   "cell_type": "code",
   "execution_count": 29,
   "metadata": {},
   "outputs": [
    {
     "data": {
      "text/plain": [
       "(180, 2)"
      ]
     },
     "execution_count": 29,
     "metadata": {},
     "output_type": "execute_result"
    }
   ],
   "source": [
    "tissues_sulci.shape"
   ]
  },
  {
   "cell_type": "code",
   "execution_count": 19,
   "metadata": {},
   "outputs": [
    {
     "data": {
      "text/plain": [
       "array([[125, 125, 125, ..., 126, 126, 126],\n",
       "       [  0,   0,   0, ...,   0,   0,   0]], dtype=int16)"
      ]
     },
     "execution_count": 19,
     "metadata": {},
     "output_type": "execute_result"
    }
   ],
   "source": [
    "tissues_sulci[tissues_sulci]"
   ]
  },
  {
   "cell_type": "code",
   "execution_count": 4,
   "metadata": {},
   "outputs": [],
   "source": [
    "img_arrary = sitk.GetArrayFromImage(img)"
   ]
  },
  {
   "cell_type": "code",
   "execution_count": 5,
   "metadata": {},
   "outputs": [],
   "source": [
    "pixels = img_arrary[img_arrary > 0]"
   ]
  },
  {
   "cell_type": "code",
   "execution_count": 7,
   "metadata": {},
   "outputs": [
    {
     "name": "stderr",
     "output_type": "stream",
     "text": [
      "/mrhome/vladyslavz/.local/lib/python3.10/site-packages/sklearn/cluster/_kmeans.py:870: FutureWarning: The default value of `n_init` will change from 10 to 'auto' in 1.4. Set the value of `n_init` explicitly to suppress the warning\n",
      "  warnings.warn(\n"
     ]
    }
   ],
   "source": [
    "kmeans = KMeans(n_clusters=2, random_state=0)\n",
    "pixel_labels = kmeans.fit_predict(pixels.reshape(-1, 1))"
   ]
  },
  {
   "cell_type": "code",
   "execution_count": 15,
   "metadata": {},
   "outputs": [],
   "source": [
    "img_labels = np.zeros_like(img_arrary)\n",
    "img_labels[img_arrary > 0] = pixel_labels + 100"
   ]
  },
  {
   "cell_type": "code",
   "execution_count": 17,
   "metadata": {},
   "outputs": [],
   "source": [
    "label_img = sitk.GetImageFromArray(img_labels)\n",
    "label_img.CopyInformation(sulci_map)"
   ]
  },
  {
   "cell_type": "code",
   "execution_count": 18,
   "metadata": {},
   "outputs": [],
   "source": [
    "sitk.WriteImage(label_img+sulci_map, '/mrhome/vladyslavz/git/central-sulcus-analysis/data/brainvisa/ammon/t1mri/t1/ammon_labels.nii.gz')"
   ]
  },
  {
   "cell_type": "code",
   "execution_count": 13,
   "metadata": {},
   "outputs": [],
   "source": [
    "sulci_map = '/mrhome/vladyslavz/git/central-sulcus-analysis/data/brainvisa/ammon/t1mri/t1/default_analysis/folds/3.3/base2018_manual/segmentation/RSulci_ammon_base2018_manual.nii.gz'"
   ]
  },
  {
   "cell_type": "code",
   "execution_count": 14,
   "metadata": {},
   "outputs": [],
   "source": [
    "sulci_map = sitk.ReadImage(sulci_map)"
   ]
  },
  {
   "cell_type": "code",
   "execution_count": null,
   "metadata": {},
   "outputs": [],
   "source": [
    "sulci_map"
   ]
  }
 ],
 "metadata": {
  "kernelspec": {
   "display_name": "css",
   "language": "python",
   "name": "python3"
  },
  "language_info": {
   "codemirror_mode": {
    "name": "ipython",
    "version": 3
   },
   "file_extension": ".py",
   "mimetype": "text/x-python",
   "name": "python",
   "nbconvert_exporter": "python",
   "pygments_lexer": "ipython3",
   "version": "3.10.9"
  },
  "orig_nbformat": 4,
  "vscode": {
   "interpreter": {
    "hash": "4cc313e80ba78aa359b4293e6814db2500968638cda5b0940cd65559d56791a3"
   }
  }
 },
 "nbformat": 4,
 "nbformat_minor": 2
}
