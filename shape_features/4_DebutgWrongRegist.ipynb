{
 "cells": [
  {
   "cell_type": "code",
   "execution_count": 25,
   "metadata": {},
   "outputs": [],
   "source": [
    "import SimpleITK as sitk\n",
    "import numpy as np\n",
    "import trimesh\n",
    "from tqdm import tqdm\n",
    "from scipy.ndimage import gaussian_filter\n",
    "from sklearn.manifold import Isomap\n",
    "from pathlib import Path\n",
    "from dataloaders import VIA11_Corrected_CS_Loader\n",
    "import scipy.ndimage as ndimage\n",
    "import open3d as o3d\n",
    "import copy\n",
    "\n",
    "import subprocess as sp\n"
   ]
  },
  {
   "cell_type": "code",
   "execution_count": 2,
   "metadata": {},
   "outputs": [],
   "source": [
    "data_path = Path('/mrhome/vladyslavz/git/central-sulcus-analysis/shape_features/data/nobackup')\n"
   ]
  },
  {
   "cell_type": "code",
   "execution_count": 3,
   "metadata": {},
   "outputs": [
    {
     "name": "stderr",
     "output_type": "stream",
     "text": [
      "100%|██████████| 286/286 [00:25<00:00, 11.25it/s]\n"
     ]
    }
   ],
   "source": [
    "cs_ds = VIA11_Corrected_CS_Loader(bv_good=True, corrected=True, all_bv=False, preload=True)\n",
    "        # unravell all the sulci\n",
    "sulci_list = cs_ds.get_subjects()"
   ]
  },
  {
   "cell_type": "code",
   "execution_count": 4,
   "metadata": {},
   "outputs": [
    {
     "name": "stdout",
     "output_type": "stream",
     "text": [
      "Average sulcus automatically selected is right_sub-via033.\n"
     ]
    }
   ],
   "source": [
    "idx = 13\n",
    "print(f'Average sulcus automatically selected is {sulci_list[idx][0]}_{sulci_list[idx][1]}.')"
   ]
  },
  {
   "cell_type": "code",
   "execution_count": 5,
   "metadata": {},
   "outputs": [
    {
     "data": {
      "text/plain": [
       "['right',\n",
       " 'sub-via033',\n",
       " 'corrected',\n",
       " <SimpleITK.SimpleITK.Image; proxy of <Swig Object of type 'std::vector< itk::simple::Image >::value_type *' at 0x7f8274252160> >]"
      ]
     },
     "execution_count": 5,
     "metadata": {},
     "output_type": "execute_result"
    }
   ],
   "source": [
    "average_sulcus = sulci_list[idx]\n",
    "average_sulcus"
   ]
  },
  {
   "cell_type": "code",
   "execution_count": 6,
   "metadata": {},
   "outputs": [
    {
     "data": {
      "text/plain": [
       "['left',\n",
       " 'sub-via005',\n",
       " 'corrected',\n",
       " <SimpleITK.SimpleITK.Image; proxy of <Swig Object of type 'std::vector< itk::simple::Image >::value_type *' at 0x7f82741f7990> >]"
      ]
     },
     "execution_count": 6,
     "metadata": {},
     "output_type": "execute_result"
    }
   ],
   "source": [
    "sub5_left = sulci_list[4]\n",
    "sub5_left"
   ]
  },
  {
   "cell_type": "code",
   "execution_count": 7,
   "metadata": {},
   "outputs": [
    {
     "name": "stdout",
     "output_type": "stream",
     "text": [
      "Flipped\n"
     ]
    }
   ],
   "source": [
    "sulc2 = [x for x in sub5_left]\n",
    "\n",
    "# need to flip if different hemispheres\n",
    "if average_sulcus[0] != sulc2[0]:\n",
    "    sulc2[3] = sitk.Flip(sulc2[3], [False, False, True])\n",
    "    print('Flipped')\n",
    "\n",
    "# register the sulci with ICP\n",
    "s1_points = np.stack(np.where(sitk.GetArrayFromImage(average_sulcus[3]))).T\n",
    "s2_points = np.stack(np.where(sitk.GetArrayFromImage(sulc2[3]))).T\n",
    "\n",
    "# finds the transformation matrix sending a to b\n",
    "trnsh_mat, transformed, __ = trimesh.registration.icp(a=s2_points,\n",
    "                                                      b=s1_points,\n",
    "                                                      max_iterations=1000,\n",
    "                                                      scale=False,)\n",
    "\n",
    "transformed_img = np.zeros_like(sitk.GetArrayFromImage(sulc2[3]))\n",
    "transformed_img[tuple(np.round(transformed).astype(int).T)] = 1\n",
    "transformed_img = sitk.GetImageFromArray(transformed_img.astype(np.float32))\n",
    "\n",
    "res_sulci = [x for x in sulc2]\n",
    "res_sulci[3] = transformed_img"
   ]
  },
  {
   "cell_type": "code",
   "execution_count": 65,
   "metadata": {},
   "outputs": [
    {
     "data": {
      "text/plain": [
       "array([[ 96.91800917, 205.01635312, 169.98567809],\n",
       "       [ 96.94449797, 206.00826007, 169.86150504],\n",
       "       [ 97.06413967, 206.87404163, 168.74970103],\n",
       "       ...,\n",
       "       [165.19776043, 153.99143718, 131.30320762],\n",
       "       [165.22424923, 154.98334413, 131.17903457],\n",
       "       [165.25073802, 155.97525108, 131.05486153]])"
      ]
     },
     "execution_count": 65,
     "metadata": {},
     "output_type": "execute_result"
    }
   ],
   "source": [
    "transformed "
   ]
  },
  {
   "cell_type": "code",
   "execution_count": 56,
   "metadata": {},
   "outputs": [
    {
     "ename": "RuntimeError",
     "evalue": "invalid shape for coordinate array",
     "output_type": "error",
     "traceback": [
      "\u001b[0;31m---------------------------------------------------------------------------\u001b[0m",
      "\u001b[0;31mRuntimeError\u001b[0m                              Traceback (most recent call last)",
      "Cell \u001b[0;32mIn[56], line 20\u001b[0m\n\u001b[1;32m     17\u001b[0m \u001b[39m# Example usage with the given list of point coordinates\u001b[39;00m\n\u001b[1;32m     18\u001b[0m point_coordinates \u001b[39m=\u001b[39m transformed\u001b[39m.\u001b[39mcopy()\n\u001b[0;32m---> 20\u001b[0m output_image \u001b[39m=\u001b[39m fill_image_with_points(point_coordinates)\n",
      "Cell \u001b[0;32mIn[56], line 7\u001b[0m, in \u001b[0;36mfill_image_with_points\u001b[0;34m(points, image_shape)\u001b[0m\n\u001b[1;32m      4\u001b[0m grid \u001b[39m=\u001b[39m np\u001b[39m.\u001b[39mstack((x, y, z), axis\u001b[39m=\u001b[39m\u001b[39m-\u001b[39m\u001b[39m1\u001b[39m)\n\u001b[1;32m      6\u001b[0m \u001b[39m# Interpolate the points using bilinear interpolation\u001b[39;00m\n\u001b[0;32m----> 7\u001b[0m interpolated_values \u001b[39m=\u001b[39m ndimage\u001b[39m.\u001b[39;49mmap_coordinates(grid, points, order\u001b[39m=\u001b[39;49m\u001b[39m1\u001b[39;49m, mode\u001b[39m=\u001b[39;49m\u001b[39m'\u001b[39;49m\u001b[39mnearest\u001b[39;49m\u001b[39m'\u001b[39;49m)\n\u001b[1;32m      9\u001b[0m \u001b[39m# Create the output image and fill it with 1s at the interpolated point coordinates\u001b[39;00m\n\u001b[1;32m     10\u001b[0m output_image \u001b[39m=\u001b[39m np\u001b[39m.\u001b[39mzeros(image_shape)\n",
      "File \u001b[0;32m~/.local/lib/python3.10/site-packages/scipy/ndimage/_interpolation.py:440\u001b[0m, in \u001b[0;36mmap_coordinates\u001b[0;34m(input, coordinates, output, order, mode, cval, prefilter)\u001b[0m\n\u001b[1;32m    438\u001b[0m     \u001b[39mraise\u001b[39;00m \u001b[39mRuntimeError\u001b[39;00m(\u001b[39m'\u001b[39m\u001b[39minput and output rank must be > 0\u001b[39m\u001b[39m'\u001b[39m)\n\u001b[1;32m    439\u001b[0m \u001b[39mif\u001b[39;00m coordinates\u001b[39m.\u001b[39mshape[\u001b[39m0\u001b[39m] \u001b[39m!=\u001b[39m \u001b[39minput\u001b[39m\u001b[39m.\u001b[39mndim:\n\u001b[0;32m--> 440\u001b[0m     \u001b[39mraise\u001b[39;00m \u001b[39mRuntimeError\u001b[39;00m(\u001b[39m'\u001b[39m\u001b[39minvalid shape for coordinate array\u001b[39m\u001b[39m'\u001b[39m)\n\u001b[1;32m    441\u001b[0m complex_output \u001b[39m=\u001b[39m numpy\u001b[39m.\u001b[39miscomplexobj(\u001b[39minput\u001b[39m)\n\u001b[1;32m    442\u001b[0m output \u001b[39m=\u001b[39m _ni_support\u001b[39m.\u001b[39m_get_output(output, \u001b[39minput\u001b[39m, shape\u001b[39m=\u001b[39moutput_shape,\n\u001b[1;32m    443\u001b[0m                                  complex_output\u001b[39m=\u001b[39mcomplex_output)\n",
      "\u001b[0;31mRuntimeError\u001b[0m: invalid shape for coordinate array"
     ]
    }
   ],
   "source": [
    "\n",
    "def fill_image_with_points(points, image_shape=(192, 288, 288)):\n",
    "    # Create a grid representing the 3D space\n",
    "    x, y, z = np.meshgrid(np.arange(image_shape[0]), np.arange(image_shape[1]), np.arange(image_shape[2]))\n",
    "    grid = np.stack((x, y, z), axis=-1)\n",
    "\n",
    "    # Interpolate the points using bilinear interpolation\n",
    "    interpolated_values = ndimage.map_coordinates(grid,\n",
    "                                                  points, order=1, mode='nearest')\n",
    "\n",
    "    # Create the output image and fill it with 1s at the interpolated point coordinates\n",
    "    output_image = np.zeros(image_shape)\n",
    "    indices = np.round(interpolated_values).astype(int)\n",
    "    mask = (indices >= 0) & (indices < image_shape[0])\n",
    "    output_image[tuple(indices[mask].T)] = 1\n",
    "\n",
    "    return output_image\n",
    "\n",
    "# Example usage with the given list of point coordinates\n",
    "point_coordinates = transformed.copy()\n",
    "\n",
    "output_image = fill_image_with_points(point_coordinates)"
   ]
  },
  {
   "cell_type": "code",
   "execution_count": 77,
   "metadata": {},
   "outputs": [
    {
     "ename": "ValueError",
     "evalue": "The points in dimension 0 must be strictly ascending or descending",
     "output_type": "error",
     "traceback": [
      "\u001b[0;31m---------------------------------------------------------------------------\u001b[0m",
      "\u001b[0;31mValueError\u001b[0m                                Traceback (most recent call last)",
      "Cell \u001b[0;32mIn[77], line 3\u001b[0m\n\u001b[1;32m      1\u001b[0m \u001b[39mfrom\u001b[39;00m \u001b[39mscipy\u001b[39;00m\u001b[39m.\u001b[39;00m\u001b[39minterpolate\u001b[39;00m \u001b[39mimport\u001b[39;00m RegularGridInterpolator\n\u001b[0;32m----> 3\u001b[0m interp \u001b[39m=\u001b[39m RegularGridInterpolator(transformed, np\u001b[39m.\u001b[39;49mones(transformed\u001b[39m.\u001b[39;49mshape[\u001b[39m0\u001b[39;49m]))\n",
      "File \u001b[0;32m~/.local/lib/python3.10/site-packages/scipy/interpolate/_rgi.py:239\u001b[0m, in \u001b[0;36mRegularGridInterpolator.__init__\u001b[0;34m(self, points, values, method, bounds_error, fill_value)\u001b[0m\n\u001b[1;32m    237\u001b[0m \u001b[39mself\u001b[39m\u001b[39m.\u001b[39mmethod \u001b[39m=\u001b[39m method\n\u001b[1;32m    238\u001b[0m \u001b[39mself\u001b[39m\u001b[39m.\u001b[39mbounds_error \u001b[39m=\u001b[39m bounds_error\n\u001b[0;32m--> 239\u001b[0m \u001b[39mself\u001b[39m\u001b[39m.\u001b[39mgrid, \u001b[39mself\u001b[39m\u001b[39m.\u001b[39m_descending_dimensions \u001b[39m=\u001b[39m _check_points(points)\n\u001b[1;32m    240\u001b[0m \u001b[39mself\u001b[39m\u001b[39m.\u001b[39mvalues \u001b[39m=\u001b[39m \u001b[39mself\u001b[39m\u001b[39m.\u001b[39m_check_values(values)\n\u001b[1;32m    241\u001b[0m \u001b[39mself\u001b[39m\u001b[39m.\u001b[39m_check_dimensionality(\u001b[39mself\u001b[39m\u001b[39m.\u001b[39mgrid, \u001b[39mself\u001b[39m\u001b[39m.\u001b[39mvalues)\n",
      "File \u001b[0;32m~/.local/lib/python3.10/site-packages/scipy/interpolate/_rgi.py:28\u001b[0m, in \u001b[0;36m_check_points\u001b[0;34m(points)\u001b[0m\n\u001b[1;32m     26\u001b[0m             p \u001b[39m=\u001b[39m np\u001b[39m.\u001b[39mascontiguousarray(p)\n\u001b[1;32m     27\u001b[0m         \u001b[39melse\u001b[39;00m:\n\u001b[0;32m---> 28\u001b[0m             \u001b[39mraise\u001b[39;00m \u001b[39mValueError\u001b[39;00m(\n\u001b[1;32m     29\u001b[0m                 \u001b[39m\"\u001b[39m\u001b[39mThe points in dimension \u001b[39m\u001b[39m%d\u001b[39;00m\u001b[39m must be strictly \u001b[39m\u001b[39m\"\u001b[39m\n\u001b[1;32m     30\u001b[0m                 \u001b[39m\"\u001b[39m\u001b[39mascending or descending\u001b[39m\u001b[39m\"\u001b[39m \u001b[39m%\u001b[39m i)\n\u001b[1;32m     31\u001b[0m     grid\u001b[39m.\u001b[39mappend(p)\n\u001b[1;32m     32\u001b[0m \u001b[39mreturn\u001b[39;00m \u001b[39mtuple\u001b[39m(grid), \u001b[39mtuple\u001b[39m(descending_dimensions)\n",
      "\u001b[0;31mValueError\u001b[0m: The points in dimension 0 must be strictly ascending or descending"
     ]
    }
   ],
   "source": [
    "from scipy.interpolate import RegularGridInterpolator\n",
    "\n",
    "interp = RegularGridInterpolator((np.arange(192), np.arange(288), np.arange(288)), output_image)"
   ]
  },
  {
   "cell_type": "code",
   "execution_count": 52,
   "metadata": {},
   "outputs": [
    {
     "data": {
      "text/plain": [
       "array([[ 96.91800917, 205.01635312, 169.98567809],\n",
       "       [ 96.94449797, 206.00826007, 169.86150504],\n",
       "       [ 97.06413967, 206.87404163, 168.74970103],\n",
       "       ...,\n",
       "       [165.19776043, 153.99143718, 131.30320762],\n",
       "       [165.22424923, 154.98334413, 131.17903457],\n",
       "       [165.25073802, 155.97525108, 131.05486153]])"
      ]
     },
     "execution_count": 52,
     "metadata": {},
     "output_type": "execute_result"
    }
   ],
   "source": [
    "np.zeros_like(sitk.GetArrayFromImage(sulc2[3]))"
   ]
  },
  {
   "cell_type": "code",
   "execution_count": 8,
   "metadata": {},
   "outputs": [],
   "source": [
    "sub5REGTOavg = res_sulci[3]"
   ]
  },
  {
   "cell_type": "code",
   "execution_count": 19,
   "metadata": {},
   "outputs": [],
   "source": [
    "i = sitk.ReadImage('/mnt/projects/VIA_Vlad/nobackup/BrainVisa/CS_edited/CFIN/LSulci_sub-via010_default_session_best_edit_NHT.nii.gz')\n",
    "sub5REGTOavg.CopyInformation(i)\n",
    "sub5REGTOavg = sitk.Cast(sub5REGTOavg, sitk.sitkInt16)"
   ]
  },
  {
   "cell_type": "code",
   "execution_count": 20,
   "metadata": {},
   "outputs": [],
   "source": [
    "sitk.WriteImage(sub5REGTOavg, '/mrhome/vladyslavz/git/central-sulcus-analysis/shape_features/data/nobackup/sub5REGTOavg.nii.gz')\n",
    "sitk.WriteImage(average_sulcus[3], '/mrhome/vladyslavz/git/central-sulcus-analysis/shape_features/data/nobackup/sub17_right_orig.nii.gz')\n",
    "sitk.WriteImage(sulc2[3], '/mrhome/vladyslavz/git/central-sulcus-analysis/shape_features/data/nobackup/sub5_left_flipped.nii.gz')\n",
    "sitk.WriteImage(sub5_left[3], '/mrhome/vladyslavz/git/central-sulcus-analysis/shape_features/data/nobackup/sub5_left_orig.nii.gz')"
   ]
  },
  {
   "cell_type": "code",
   "execution_count": 22,
   "metadata": {},
   "outputs": [
    {
     "name": "stdout",
     "output_type": "stream",
     "text": [
      "reading image      : done\n",
      "resolutions        : (0.899994 mm,0.902778 mm,0.902771 mm)\n",
      "reading slice      :                      1 1 1 1 1 1 1 1 1 1 2 2 2 2 2 2 2 2 2 2 3 3 3 3 3 3 3 3 3 3 4 4 4 4 4 4 4 4 4 4 5 5 5 5 5 5 5 5 5 5 6 6 6 6 6 6 6 6 6 6 7 7 7 7 7 7 7 7 7 7 8 8 8 8 8 8 8 8 8 8 9 9 9 9 9 9 9 9 9 91010101010101010101011111111111111111111121212121212121212121313131313131313131314141414141414141414151515151515151515151616161616161616161617171717171717171717181818181818181818181919191919191919191920202020202020202020212121212121212121212222222222222222222223232323232323232323242424242424242424242525252525252525252526262626262626262626272727272727272727272828282828282828288\n",
      "getting interface  :         done \n",
      "processing mesh    : reduced neighborhood\u000bextended neighborhoo\u000bvertices            \u000bsmoothing  iteration                                            1   1   1   1   1   1   1   1   1   1   2   2   2   2   2   2   2   2   2   2   3                       pass 1/3 : decimating        1   2   3   4   5   6   7   8   9  10  11  12  13  14\u000bpass 2/3 : decimating        1   2   3   4   5   6   7   8   9  10  11  12  13  14  15  16  17  18  19\u000bpass 3/3 : decimating        1   2   3   4   5   6   7   8   9  10\u000bsmoothing  iteration                                            1   1   1   1   1   1   1   1   1   1   2   2   2   2   2   2   2   2   2   2   3                       normals             \u000btriangles           \u000bdone ( 65.6084% reduction )\n",
      "clearing interface : done\n",
      "surface            : 3175.31 mm2\n"
     ]
    },
    {
     "data": {
      "text/plain": [
       "CompletedProcess(args=['/mrhome/vladyslavz/portable_apps/brainvisa4_5/bin/AimsMeshBrain', '-i', '/mrhome/vladyslavz/git/central-sulcus-analysis/shape_features/data/nobackup/sub5REGTOavg.nii.gz', '-o', '/mrhome/vladyslavz/git/central-sulcus-analysis/shape_features/data/nobackup/sub5REGTOavg.ply'], returncode=0)"
      ]
     },
     "execution_count": 22,
     "metadata": {},
     "output_type": "execute_result"
    }
   ],
   "source": [
    "cmd = ['/mrhome/vladyslavz/portable_apps/brainvisa4_5/bin/AimsMeshBrain', '-i', '/mrhome/vladyslavz/git/central-sulcus-analysis/shape_features/data/nobackup/sub5REGTOavg.nii.gz', '-o', '/mrhome/vladyslavz/git/central-sulcus-analysis/shape_features/data/nobackup/sub5REGTOavg.ply']\n",
    "subprocess.run(cmd)"
   ]
  },
  {
   "cell_type": "code",
   "execution_count": null,
   "metadata": {},
   "outputs": [],
   "source": []
  }
 ],
 "metadata": {
  "kernelspec": {
   "display_name": "css",
   "language": "python",
   "name": "python3"
  },
  "language_info": {
   "codemirror_mode": {
    "name": "ipython",
    "version": 3
   },
   "file_extension": ".py",
   "mimetype": "text/x-python",
   "name": "python",
   "nbconvert_exporter": "python",
   "pygments_lexer": "ipython3",
   "version": "3.10.9"
  },
  "orig_nbformat": 4
 },
 "nbformat": 4,
 "nbformat_minor": 2
}
