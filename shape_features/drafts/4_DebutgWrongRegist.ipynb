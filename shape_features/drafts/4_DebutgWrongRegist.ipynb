{
 "cells": [
  {
   "cell_type": "code",
   "execution_count": 1,
   "metadata": {},
   "outputs": [
    {
     "name": "stdout",
     "output_type": "stream",
     "text": [
      "Jupyter environment detected. Enabling Open3D WebVisualizer.\n",
      "[Open3D INFO] WebRTC GUI backend enabled.\n",
      "[Open3D INFO] WebRTCWindowSystem: HTTP handshake server disabled.\n"
     ]
    }
   ],
   "source": [
    "import SimpleITK as sitk\n",
    "import numpy as np\n",
    "import trimesh\n",
    "from tqdm import tqdm\n",
    "from scipy.ndimage import gaussian_filter\n",
    "from sklearn.manifold import Isomap\n",
    "from pathlib import Path\n",
    "from dataloaders import VIA11_Corrected_CS_Loader\n",
    "import scipy.ndimage as ndimage\n",
    "import open3d as o3d\n",
    "import copy\n",
    "\n",
    "import subprocess as sp\n",
    "\n",
    "from shape_utils import interpolate_segmentation"
   ]
  },
  {
   "cell_type": "code",
   "execution_count": 2,
   "metadata": {},
   "outputs": [],
   "source": [
    "data_path = Path('/mrhome/vladyslavz/git/central-sulcus-analysis/shape_features/data/nobackup')\n"
   ]
  },
  {
   "cell_type": "code",
   "execution_count": 3,
   "metadata": {},
   "outputs": [
    {
     "name": "stderr",
     "output_type": "stream",
     "text": [
      "100%|██████████| 286/286 [00:11<00:00, 25.80it/s]\n"
     ]
    }
   ],
   "source": [
    "cs_ds = VIA11_Corrected_CS_Loader(bv_good=True, corrected=True, all_bv=False, preload=True)\n",
    "        # unravell all the sulci\n",
    "sulci_list = cs_ds.get_subjects()"
   ]
  },
  {
   "cell_type": "code",
   "execution_count": 4,
   "metadata": {},
   "outputs": [
    {
     "name": "stdout",
     "output_type": "stream",
     "text": [
      "Average sulcus automatically selected is right_sub-via033.\n"
     ]
    }
   ],
   "source": [
    "idx = 13\n",
    "print(f'Average sulcus automatically selected is {sulci_list[idx][0]}_{sulci_list[idx][1]}.')"
   ]
  },
  {
   "cell_type": "code",
   "execution_count": 5,
   "metadata": {},
   "outputs": [
    {
     "data": {
      "text/plain": [
       "['right',\n",
       " 'sub-via033',\n",
       " 'corrected',\n",
       " <SimpleITK.SimpleITK.Image; proxy of <Swig Object of type 'std::vector< itk::simple::Image >::value_type *' at 0x7fabff17a490> >]"
      ]
     },
     "execution_count": 5,
     "metadata": {},
     "output_type": "execute_result"
    }
   ],
   "source": [
    "average_sulcus = sulci_list[idx]\n",
    "average_sulcus"
   ]
  },
  {
   "cell_type": "code",
   "execution_count": 6,
   "metadata": {},
   "outputs": [
    {
     "data": {
      "text/plain": [
       "['left',\n",
       " 'sub-via005',\n",
       " 'corrected',\n",
       " <SimpleITK.SimpleITK.Image; proxy of <Swig Object of type 'std::vector< itk::simple::Image >::value_type *' at 0x7fabff17a8e0> >]"
      ]
     },
     "execution_count": 6,
     "metadata": {},
     "output_type": "execute_result"
    }
   ],
   "source": [
    "sub5_left = sulci_list[4]\n",
    "sub5_left"
   ]
  },
  {
   "cell_type": "code",
   "execution_count": 7,
   "metadata": {},
   "outputs": [
    {
     "name": "stdout",
     "output_type": "stream",
     "text": [
      "Flipped\n"
     ]
    }
   ],
   "source": [
    "sulc2 = [x for x in sub5_left]\n",
    "\n",
    "# need to flip if different hemispheres\n",
    "if average_sulcus[0] != sulc2[0]:\n",
    "    sulc2[3] = sitk.Flip(sulc2[3], [False, False, True])\n",
    "    print('Flipped')\n",
    "\n",
    "# register the sulci with ICP\n",
    "s1_points = np.stack(np.where(sitk.GetArrayFromImage(average_sulcus[3]))).T\n",
    "s2_points = np.stack(np.where(sitk.GetArrayFromImage(sulc2[3]))).T\n",
    "\n",
    "# finds the transformation matrix sending a to b\n",
    "trnsh_mat, transformed, __ = trimesh.registration.icp(a=s2_points,\n",
    "                                                      b=s1_points,\n",
    "                                                      max_iterations=1000,\n",
    "                                                      scale=False,)\n",
    "\n",
    "transformed_img = np.zeros_like(sitk.GetArrayFromImage(sulc2[3]))\n",
    "transformed_img[tuple(np.round(transformed).astype(int).T)] = 1\n",
    "transformed_img = sitk.GetImageFromArray(transformed_img.astype(np.float32))\n",
    "\n",
    "res_sulci = [x for x in sulc2]\n",
    "res_sulci[3] = transformed_img"
   ]
  },
  {
   "cell_type": "code",
   "execution_count": 8,
   "metadata": {},
   "outputs": [],
   "source": [
    "A_registered_to_B_interp = interpolate_segmentation(imageA=sitk.GetArrayFromImage(sulc2[3]),\n",
    "                                                    imageB_shape=sitk.GetArrayFromImage(average_sulcus[3]).shape,\n",
    "                                                    pointsAregistered2B=transformed,\n",
    "                                                    trnsh_mat=trnsh_mat,\n",
    "                                                    spline_order=1)"
   ]
  },
  {
   "cell_type": "code",
   "execution_count": 9,
   "metadata": {},
   "outputs": [],
   "source": [
    "sub5REGTOavg = res_sulci[3]"
   ]
  },
  {
   "cell_type": "code",
   "execution_count": 10,
   "metadata": {},
   "outputs": [],
   "source": [
    "i = sitk.ReadImage('/mnt/projects/VIA_Vlad/nobackup/BrainVisa/CS_edited/CFIN/LSulci_sub-via010_default_session_best_edit_NHT.nii.gz')\n",
    "sub5REGTOavg.CopyInformation(i)\n",
    "sub5REGTOavg = sitk.Cast(sub5REGTOavg, sitk.sitkInt16)"
   ]
  },
  {
   "cell_type": "code",
   "execution_count": 11,
   "metadata": {},
   "outputs": [],
   "source": [
    "interp_transf = sitk.GetImageFromArray(A_registered_to_B_interp.astype(np.int16))\n",
    "interp_transf.CopyInformation(i)"
   ]
  },
  {
   "cell_type": "code",
   "execution_count": 12,
   "metadata": {},
   "outputs": [],
   "source": [
    "sitk.WriteImage(sub5REGTOavg, '/mrhome/vladyslavz/git/central-sulcus-analysis/shape_features/data/nobackup/sub5REGTOavg.nii.gz')\n",
    "sitk.WriteImage(average_sulcus[3], '/mrhome/vladyslavz/git/central-sulcus-analysis/shape_features/data/nobackup/sub17_right_orig.nii.gz')\n",
    "sitk.WriteImage(sulc2[3], '/mrhome/vladyslavz/git/central-sulcus-analysis/shape_features/data/nobackup/sub5_left_flipped.nii.gz')\n",
    "sitk.WriteImage(sub5_left[3], '/mrhome/vladyslavz/git/central-sulcus-analysis/shape_features/data/nobackup/sub5_left_orig.nii.gz')\n",
    "sitk.WriteImage(interp_transf, '/mrhome/vladyslavz/git/central-sulcus-analysis/shape_features/data/nobackup/sub5_left_interp.nii.gz')"
   ]
  },
  {
   "cell_type": "code",
   "execution_count": 13,
   "metadata": {},
   "outputs": [],
   "source": [
    "import subprocess as sp"
   ]
  },
  {
   "cell_type": "code",
   "execution_count": 14,
   "metadata": {},
   "outputs": [
    {
     "name": "stdout",
     "output_type": "stream",
     "text": [
      "reading image      : done\n",
      "resolutions        : (0.899994 mm,0.902778 mm,0.902771 mm)\n",
      "reading slice      :                      1 1 1 1 1 1 1 1 1 1 2 2 2 2 2 2 2 2 2 2 3 3 3 3 3 3 3 3 3 3 4 4 4 4 4 4 4 4 4 4 5 5 5 5 5 5 5 5 5 5 6 6 6 6 6 6 6 6 6 6 7 7 7 7 7 7 7 7 7 7 8 8 8 8 8 8 8 8 8 8 9 9 9 9 9 9 9 9 9 91010101010101010101011111111111111111111121212121212121212121313131313131313131314141414141414141414151515151515151515151616161616161616161617171717171717171717181818181818181818181919191919191919191920202020202020202020212121212121212121212222222222222222222223232323232323232323242424242424242424242525252525252525252526262626262626262626272727272727272727272828282828282828288\n",
      "getting interface  :         done \n",
      "processing mesh    : reduced neighborhood\u000bextended neighborhoo\u000bvertices            \u000bsmoothing  iteration                                            1   1   1   1   1   1   1   1   1   1   2   2   2   2   2   2   2   2   2   2   3                       pass 1/3 : decimating        1   2   3   4   5   6   7   8   9  10  11  12  13  14  15  16\u000bpass 2/3 : decimating        1   2   3   4   5   6   7   8   9  10  11  12  13  14  15  16  17  18  19  20\u000bpass 3/3 : decimating        1   2   3   4   5   6   7   8\u000bsmoothing  iteration                                            1   1   1   1   1   1   1   1   1   1   2   2   2   2   2   2   2   2   2   2   3                       normals             \u000btriangles           \u000bdone ( 67.3932% reduction )\n",
      "clearing interface : done\n",
      "surface            : 3305.55 mm2\n"
     ]
    },
    {
     "data": {
      "text/plain": [
       "CompletedProcess(args=['/mrhome/vladyslavz/portable_apps/brainvisa4_5/bin/AimsMeshBrain', '-i', '/mrhome/vladyslavz/git/central-sulcus-analysis/shape_features/data/nobackup/sub5_left_interp.nii.gz', '-o', '/mrhome/vladyslavz/git/central-sulcus-analysis/shape_features/data/nobackup/sub5_left_interp.ply'], returncode=0)"
      ]
     },
     "execution_count": 14,
     "metadata": {},
     "output_type": "execute_result"
    }
   ],
   "source": [
    "cmd = ['/mrhome/vladyslavz/portable_apps/brainvisa4_5/bin/AimsMeshBrain', '-i', '/mrhome/vladyslavz/git/central-sulcus-analysis/shape_features/data/nobackup/sub5_left_interp.nii.gz', '-o', '/mrhome/vladyslavz/git/central-sulcus-analysis/shape_features/data/nobackup/sub5_left_interp.ply']\n",
    "sp.run(cmd)"
   ]
  },
  {
   "cell_type": "code",
   "execution_count": null,
   "metadata": {},
   "outputs": [],
   "source": []
  }
 ],
 "metadata": {
  "kernelspec": {
   "display_name": "css",
   "language": "python",
   "name": "python3"
  },
  "language_info": {
   "codemirror_mode": {
    "name": "ipython",
    "version": 3
   },
   "file_extension": ".py",
   "mimetype": "text/x-python",
   "name": "python",
   "nbconvert_exporter": "python",
   "pygments_lexer": "ipython3",
   "version": "3.10.9"
  },
  "orig_nbformat": 4
 },
 "nbformat": 4,
 "nbformat_minor": 2
}
