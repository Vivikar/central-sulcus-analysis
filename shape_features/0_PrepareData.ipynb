{
 "cells": [
  {
   "cell_type": "code",
   "execution_count": 1,
   "metadata": {},
   "outputs": [
    {
     "name": "stdout",
     "output_type": "stream",
     "text": [
      "Jupyter environment detected. Enabling Open3D WebVisualizer.\n",
      "[Open3D INFO] WebRTC GUI backend enabled.\n",
      "[Open3D INFO] WebRTCWindowSystem: HTTP handshake server disabled.\n"
     ]
    }
   ],
   "source": [
    "from pathlib import Path\n",
    "import pandas as pd\n",
    "import numpy as np\n",
    "import matplotlib.pyplot as plt\n",
    "import seaborn as sns\n",
    "\n",
    "from tqdm import tqdm\n",
    "import subprocess \n",
    "import os\n",
    "import pickle\n",
    "import trimesh\n",
    "from collections import defaultdict\n",
    "\n",
    "from torch.utils.data import Dataset, DataLoader\n",
    "\n",
    "import SimpleITK as sitk\n",
    "\n",
    "import open3d as o3d\n",
    "\n",
    "# import tqdm\n",
    "import subprocess\n",
    "from scipy.ndimage import gaussian_filter\n",
    "\n",
    "from dataloaders import VIA11_Corrected_CS_Loader\n",
    "import multiprocessing as mp\n",
    "\n",
    "from spam import SPAM\n",
    "\n",
    "from shape_utils import sulcus_dist\n",
    "\n",
    "from sklearn.manifold import Isomap\n",
    "\n",
    "from pathlib import Path"
   ]
  },
  {
   "attachments": {},
   "cell_type": "markdown",
   "metadata": {},
   "source": [
    "### Testing"
   ]
  },
  {
   "cell_type": "code",
   "execution_count": 9,
   "metadata": {},
   "outputs": [
    {
     "data": {
      "text/plain": [
       "286"
      ]
     },
     "execution_count": 9,
     "metadata": {},
     "output_type": "execute_result"
    }
   ],
   "source": [
    "ds = VIA11_Corrected_CS_Loader(bv_good=True, corrected=True, all_bv=False)\n",
    "len(ds)\n",
    "# Path(ds[0]['rmesh']).exists()"
   ]
  },
  {
   "cell_type": "code",
   "execution_count": 10,
   "metadata": {},
   "outputs": [
    {
     "name": "stdout",
     "output_type": "stream",
     "text": [
      "{'subject_id': 'sub-via003', 'lsegm': PosixPath('/mnt/projects/VIA_Vlad/nobackup/BrainVisa/CS_edited/DRCMR/LSulci_sub-via003_default_session_best_edit_NHT.nii.gz'), 'rsegm': '/mnt/projects/VIA_Vlad/nobackup/BrainVisa/CS_edited/DRCMR/RSulci_sub-via003_default_session_best_edit_NHT.nii.gz', 'lmesh': '/mnt/projects/VIA_Vlad/nobackup/BrainVisa/CS_edited/DRCMR/LSulci_sub-via003_default_session_best_edit_NHT.ply', 'rmesh': '/mnt/projects/VIA_Vlad/nobackup/BrainVisa/CS_edited/DRCMR/RSulci_sub-via003_default_session_best_edit_NHT.ply', 'type': 'corrected', 'site': 'DRCMR'}\n"
     ]
    }
   ],
   "source": [
    "subject = ds[0]\n",
    "print(subject)\n",
    "\n",
    "lmesh = o3d.io.read_triangle_mesh(subject['lmesh'])\n",
    "rmesh = o3d.io.read_triangle_mesh(subject['rmesh'])\n",
    "\n",
    "lsegm = sitk.ReadImage(str(subject['lsegm']))\n",
    "rsegm = sitk.ReadImage(str(subject['rsegm']))"
   ]
  },
  {
   "cell_type": "code",
   "execution_count": 11,
   "metadata": {},
   "outputs": [
    {
     "data": {
      "text/plain": [
       "TriangleMesh with 2186 points and 4368 triangles."
      ]
     },
     "execution_count": 11,
     "metadata": {},
     "output_type": "execute_result"
    }
   ],
   "source": [
    "lmesh.paint_uniform_color([1, 0.706, 0])"
   ]
  },
  {
   "cell_type": "code",
   "execution_count": 12,
   "metadata": {},
   "outputs": [],
   "source": [
    "lmesh.compute_vertex_normals()\n",
    "lmesh.compute_triangle_normals()\n",
    "o3d.visualization.draw_geometries([rmesh])"
   ]
  },
  {
   "attachments": {},
   "cell_type": "markdown",
   "metadata": {},
   "source": [
    "1. Mirroring"
   ]
  },
  {
   "attachments": {},
   "cell_type": "markdown",
   "metadata": {},
   "source": [
    "The right sulci were finally mirrored relative to the interhemispheric plane in order to facilitate the comparison with the left ones. https://www.sciencedirect.com/science/article/pii/S1053811921011083#sec0037"
   ]
  },
  {
   "cell_type": "code",
   "execution_count": 13,
   "metadata": {},
   "outputs": [],
   "source": [
    "rsegm_flipped =  sitk.Flip(rsegm, [False, False, True])"
   ]
  },
  {
   "attachments": {},
   "cell_type": "markdown",
   "metadata": {},
   "source": [
    "2. ICP Registstration"
   ]
  },
  {
   "attachments": {},
   "cell_type": "markdown",
   "metadata": {},
   "source": [
    "The dissimilarity between any two given sulci was then computed in the following way: sulcus A was registered to sulcus B using a rigid transformation, using the Iterative Closest Point algorithm (ICP) (Besl and McKay, 1992), and the residual distance dA→B between the two sulci after registration was captured using the Wasserstein distance (Dobrushin, 1970). \n",
    "\n",
    "https://www.sciencedirect.com/science/article/pii/S1053811921011083#sec0037"
   ]
  },
  {
   "cell_type": "code",
   "execution_count": 14,
   "metadata": {},
   "outputs": [],
   "source": [
    "lsegm_points = np.stack(np.where(sitk.GetArrayFromImage(lsegm))).T\n",
    "rsegm_points = np.stack(np.where(sitk.GetArrayFromImage(rsegm_flipped))).T"
   ]
  },
  {
   "cell_type": "code",
   "execution_count": 15,
   "metadata": {},
   "outputs": [],
   "source": [
    "#Apply the iterative closest point algorithm to align a point cloud with another point cloud or mesh.\n",
    "# Will only produce reasonable results if the initial transformation is roughly correct.\n",
    "# Initial transformation can be found by applying Procrustes’ analysis to a suitable set of\n",
    "# landmark points (often picked manually).\n",
    "\n",
    "# finds the transformation matrix sending a to b\n",
    "matrix, transformed, cost = trimesh.registration.icp(a=rsegm_points, b=lsegm_points, max_iterations=1000)"
   ]
  },
  {
   "cell_type": "code",
   "execution_count": 16,
   "metadata": {},
   "outputs": [],
   "source": [
    "orig_img = sitk.ReadImage('/mnt/projects/VIA_Vlad/nobackup/BrainVisa/BrainVisa/DRCMR/sub-via003/t1mri/default_acquisition/sub-via003.nii.gz')"
   ]
  },
  {
   "attachments": {},
   "cell_type": "markdown",
   "metadata": {},
   "source": [
    "#### Visualize ICP Registration"
   ]
  },
  {
   "cell_type": "code",
   "execution_count": null,
   "metadata": {},
   "outputs": [],
   "source": [
    "right_segm_registered = np.zeros_like(sitk.GetArrayFromImage(rsegm_flipped))\n",
    "right_segm_registered[tuple(np.round(transformed).astype(int).T)] = 1\n",
    "right_segm_registered_img = sitk.GetImageFromArray(right_segm_registered)\n",
    "\n",
    "fig, axs = plt.subplots(2, 2, figsize=(10, 10))\n",
    "\n",
    "axs[0, 0].imshow(sitk.GetArrayFromImage(orig_img)[:, 180, :], cmap='gray')\n",
    "axs[0, 0].set_title('Original image')\n",
    "axs[0, 0].set_axis_off()\n",
    "\n",
    "axs[0, 1].imshow(sitk.GetArrayFromImage(lsegm)[:, 180, :], alpha=0.5)\n",
    "axs[0, 1].imshow(sitk.GetArrayFromImage(rsegm)[:, 180, :], alpha=0.5)\n",
    "axs[0, 1].set_title('Original segmentations')\n",
    "axs[0, 1].set_axis_off()\n",
    "\n",
    "axs[1, 0].imshow(sitk.GetArrayFromImage(lsegm)[:, 180, :], alpha=0.5)\n",
    "axs[1, 0].imshow(sitk.GetArrayFromImage(rsegm_flipped)[:, 180, :], alpha=0.5)\n",
    "axs[1, 0].set_title('Right flipped to left')\n",
    "axs[1, 0].set_axis_off()\n",
    "\n",
    "axs[1, 1].imshow(sitk.GetArrayFromImage(lsegm)[:, 180, :], alpha=0.5)\n",
    "axs[1, 1].imshow(right_segm_registered[:, 180, :], alpha=0.5)\n",
    "axs[1, 1].set_title('Right flipped and registered to left')\n",
    "axs[1, 1].set_axis_off()\n",
    "\n",
    "plt.tight_layout()\n",
    "\n",
    "plt.show()\n",
    "\n",
    "\n",
    "# sitk.WriteImage(rsegm, './rsegm.nii.gz')\n",
    "# sitk.WriteImage(rsegm_flipped, './rsegm_flipped.nii.gz')\n",
    "# sitk.WriteImage(lsegm, './lsegm.nii.gz')\n",
    "# sitk.WriteImage(right_segm_registered_img, './right_segm_registered_img.nii.gz')"
   ]
  },
  {
   "attachments": {},
   "cell_type": "markdown",
   "metadata": {},
   "source": [
    "#### Calculate Wasserstein Distance"
   ]
  },
  {
   "attachments": {},
   "cell_type": "markdown",
   "metadata": {},
   "source": [
    "# Calculate Distance Matrix"
   ]
  },
  {
   "cell_type": "code",
   "execution_count": 2,
   "metadata": {},
   "outputs": [
    {
     "name": "stderr",
     "output_type": "stream",
     "text": [
      "100%|██████████| 286/286 [00:46<00:00,  6.18it/s]\n"
     ]
    }
   ],
   "source": [
    "cs_ds = VIA11_Corrected_CS_Loader(bv_good=True, corrected=True, all_bv=False, preload=True)\n",
    "\n",
    "# unravell all the sulci\n",
    "sulci_list = cs_ds.get_subjects()\n"
   ]
  },
  {
   "attachments": {},
   "cell_type": "markdown",
   "metadata": {},
   "source": [
    "Compute using draft below or load from files"
   ]
  },
  {
   "cell_type": "code",
   "execution_count": 3,
   "metadata": {},
   "outputs": [],
   "source": [
    "# # compute distance matrix\n",
    "# sulci_distance_matrix = []\n",
    "# sulci_reg_keys = []\n",
    "    \n",
    "# for s in tqdm(sulci_list):\n",
    "#     dists, reg_keys = sulcus_dist(s, sulclist=sulci_list)\n",
    "#     sulci_distance_matrix.append(dists)\n",
    "#     sulci_reg_keys.append(reg_keys)\n",
    "\n",
    "# sulci_distance_matrix = np.array(sulci_distance_matrix)\n",
    "# sulci_reg_keys = np.array(sulci_reg_keys)\n",
    "\n",
    "# np.save('./sulci_distance_matrix.npy', sulci_distance_matrix)\n",
    "# np.save('./sulci_reg_keys.npy', sulci_reg_keys)"
   ]
  },
  {
   "cell_type": "code",
   "execution_count": 4,
   "metadata": {},
   "outputs": [
    {
     "data": {
      "text/plain": [
       "(572, 572)"
      ]
     },
     "execution_count": 4,
     "metadata": {},
     "output_type": "execute_result"
    }
   ],
   "source": [
    "sulci_distance_matrix = np.load('.././sulci_distance_matrix.npy')\n",
    "sulci_reg_keys = np.load('.././sulci_reg_keys.npy')\n",
    "np.shape(sulci_distance_matrix)"
   ]
  },
  {
   "cell_type": "code",
   "execution_count": 5,
   "metadata": {},
   "outputs": [
    {
     "data": {
      "text/plain": [
       "array([[0.        , 0.71139947, 0.73843293, ..., 0.1801372 , 0.21324687,\n",
       "        0.80583539],\n",
       "       [0.70339746, 0.        , 0.56630353, ..., 1.1333045 , 0.58440032,\n",
       "        0.47385245],\n",
       "       [0.73843293, 0.56636564, 0.        , ..., 0.76675295, 0.56602392,\n",
       "        1.17124342],\n",
       "       ...,\n",
       "       [0.18022408, 1.1333045 , 0.76502976, ..., 0.        , 1.52604137,\n",
       "        1.16903509],\n",
       "       [0.21324687, 0.5840742 , 0.56602392, ..., 1.52639516, 0.        ,\n",
       "        0.90408223],\n",
       "       [0.81124244, 0.47385245, 1.17124342, ..., 1.16903509, 0.90408269,\n",
       "        0.        ]])"
      ]
     },
     "execution_count": 5,
     "metadata": {},
     "output_type": "execute_result"
    }
   ],
   "source": [
    "sulci_distance_matrix"
   ]
  },
  {
   "attachments": {},
   "cell_type": "markdown",
   "metadata": {},
   "source": [
    "# Calculate ISOMAP Features"
   ]
  },
  {
   "attachments": {},
   "cell_type": "markdown",
   "metadata": {},
   "source": [
    "In order to visualize the organization of the Isomap axis, all the sulci are first aligned to a template sulcus in order to obtain similar orientations across the whole set. This is performed for each sulcus using the optimal transformation yielded by the ICP algorithm. The template used to align all the sulci is the sulcus that minimizes the average distance to the rest of the whole set. Therefore, by definition the template has the most neutral shape and hence yields the best alignment across the set. Then each sulcus is translated along the antero-posterior brain axis proportionally to its Isomap coordinate (see Fig. 2)."
   ]
  },
  {
   "cell_type": "code",
   "execution_count": 6,
   "metadata": {},
   "outputs": [
    {
     "name": "stdout",
     "output_type": "stream",
     "text": [
      "Average sulcus automatically selected is right_sub-via017.\n",
      "Registering sulci to average sulcus\n"
     ]
    },
    {
     "name": "stderr",
     "output_type": "stream",
     "text": [
      "100%|██████████| 572/572 [03:12<00:00,  2.98it/s]\n"
     ]
    }
   ],
   "source": [
    "spam = SPAM(sulci_list, sulci_distance_matrix)"
   ]
  },
  {
   "cell_type": "code",
   "execution_count": 7,
   "metadata": {},
   "outputs": [
    {
     "name": "stderr",
     "output_type": "stream",
     "text": [
      " 50%|█████     | 5/10 [02:37<02:59, 35.89s/it]"
     ]
    }
   ],
   "source": [
    "all_spam_sulci, isomap_feat_values = spam.retrieve_isomap_spams(sample_shapes_n=30,\n",
    "                                        isomap_components=10,\n",
    "                                        n_neighbors=10)"
   ]
  },
  {
   "cell_type": "code",
   "execution_count": null,
   "metadata": {},
   "outputs": [],
   "source": [
    "# do the smooting and binarization after SPAM"
   ]
  },
  {
   "cell_type": "code",
   "execution_count": 11,
   "metadata": {},
   "outputs": [],
   "source": [
    "sigma = 1\n",
    "bin_thresh = 0.3\n",
    "save_path = Path('./meshes/test/').absolute()\n",
    "\n",
    "def save_mesh(segm_array:np.ndarray,\n",
    "              sigma:float, bin_thresh:np.float32,\n",
    "              label:str, save_path:Path,\n",
    "              template_img:sitk.Image=None,):\n",
    "    # smooth the segmentation\n",
    "    segm_array = gaussian_filter(segm_array, sigma=sigma)\n",
    "    \n",
    "    # binarize the segmentation\n",
    "    segm_array = (segm_array >= bin_thresh).astype(np.int16)\n",
    "    \n",
    "    segm_img = sitk.GetImageFromArray(segm_array)\n",
    "    if template_img is not None:\n",
    "        segm_img.CopyInformation(template_img)\n",
    "    \n",
    "    # save the segmentation\n",
    "    sitk.WriteImage(segm_img, save_path/f'{label}.nii.gz')\n",
    "    \n",
    "    # transform it into a mesh\n",
    "    cmd = ['/mrhome/vladyslavz/portable_apps/brainvisa4_5/bin/AimsMeshBrain', '-i', save_path/f'{label}.nii.gz', '-o', save_path/f'{label}.ply']\n",
    "    subprocess.run(cmd, shell=False, stdout=subprocess.DEVNULL, stderr=subprocess.DEVNULL)\n",
    "    \n",
    "    os.remove(save_path/f'{label}.nii.gz')\n",
    "    os.remove(save_path/f'{label}.ply.minf')"
   ]
  },
  {
   "cell_type": "code",
   "execution_count": 12,
   "metadata": {},
   "outputs": [],
   "source": [
    "orig_img = sitk.ReadImage('/mnt/projects/VIA_Vlad/nobackup/BrainVisa/CS_edited/CFIN/LSulci_sub-via010_default_session_best_edit_NHT.nii.gz')"
   ]
  },
  {
   "cell_type": "code",
   "execution_count": 15,
   "metadata": {},
   "outputs": [
    {
     "name": "stderr",
     "output_type": "stream",
     "text": [
      "100%|██████████| 10/10 [00:08<00:00,  1.18it/s]\n"
     ]
    }
   ],
   "source": [
    "for i, s in tqdm(enumerate(all_spam_sulci[0]), total=len(all_spam_sulci[0])):\n",
    "    save_mesh(s, sigma=0.8,\n",
    "              bin_thresh=0.2,\n",
    "              label=f'test{i}', save_path=save_path, template_img=orig_img)"
   ]
  },
  {
   "cell_type": "code",
   "execution_count": null,
   "metadata": {},
   "outputs": [],
   "source": []
  },
  {
   "cell_type": "code",
   "execution_count": null,
   "metadata": {},
   "outputs": [],
   "source": [
    "isomap_components = 10\n",
    "n_neighbors = 10\n",
    "\n",
    "iso = Isomap(n_components=isomap_components, n_jobs=24, n_neighbors=n_neighbors, radius=None)\n",
    "sdm_trasformed = iso.fit_transform(sulci_distance_matrix)"
   ]
  },
  {
   "cell_type": "code",
   "execution_count": null,
   "metadata": {},
   "outputs": [
    {
     "name": "stdout",
     "output_type": "stream",
     "text": [
      "Sulci index and value that minimized average distance to other sulci 155 0.3877558596690697\n",
      "Sulci index and value that maximized average distance to other sulci 184 1.0465513545806178\n"
     ]
    }
   ],
   "source": [
    "print('Sulci index and value that minimized average distance to other sulci', np.argmin(sulci_distance_matrix.mean(axis=1)), np.min(sulci_distance_matrix.mean(axis=1)))\n",
    "print('Sulci index and value that maximized average distance to other sulci', np.argmax(sulci_distance_matrix.mean(axis=1)), np.max(sulci_distance_matrix.mean(axis=1)))"
   ]
  },
  {
   "cell_type": "code",
   "execution_count": null,
   "metadata": {},
   "outputs": [
    {
     "data": {
      "text/plain": [
       "(572, 10)"
      ]
     },
     "execution_count": 9,
     "metadata": {},
     "output_type": "execute_result"
    }
   ],
   "source": [
    "sdm_trasformed.shape"
   ]
  },
  {
   "cell_type": "code",
   "execution_count": null,
   "metadata": {},
   "outputs": [],
   "source": [
    "sulci_row_names = [x.replace('-left_sub-via003', '') for x in sulci_reg_keys[:, 0]]"
   ]
  },
  {
   "cell_type": "code",
   "execution_count": null,
   "metadata": {},
   "outputs": [],
   "source": [
    "# # plot histogram of all features in sdm_trasformed\n",
    "# fig, axs = plt.subplots(2, 5, figsize=(20, 10))\n",
    "# axs = axs.ravel()\n",
    "# for i in range(sdm_trasformed.shape[1]):\n",
    "#     axs[i].hist(sdm_trasformed[:, i], bins=100)\n",
    "#     axs[i].set_title(f'Feature {i}')\n",
    "# plt.tight_layout()\n",
    "# plt.show()"
   ]
  },
  {
   "attachments": {},
   "cell_type": "markdown",
   "metadata": {},
   "source": [
    "Computing local average shapes using weighted SPAM: in order to clarify the link between the Isomap axis and the sulcal shape, local averages can be computed at different positions. Each local average results from a weighted Statistical Parametric Anatomical Map, namely a SPAM where the contribution of each sulcus is weighted according to its distance to the average location. All sulci are aligned to a template neutral sulcus before the computation of a weighted sum of 3D volumes. The resulting volume is smoothed by convolution with a 3D Gaussian. Finally, a simple threshold is used to provide a 3D representation of one of the weighted SPAM iso-surfaces."
   ]
  },
  {
   "cell_type": "code",
   "execution_count": null,
   "metadata": {},
   "outputs": [
    {
     "name": "stdout",
     "output_type": "stream",
     "text": [
      "Registering sulci to average sulcus\n"
     ]
    },
    {
     "name": "stderr",
     "output_type": "stream",
     "text": [
      "100%|██████████| 572/572 [03:04<00:00,  3.10it/s]\n"
     ]
    }
   ],
   "source": [
    "spam = SPAM(sulci_list=sulci_list, average_sulci=sulci_list[155])"
   ]
  },
  {
   "cell_type": "code",
   "execution_count": null,
   "metadata": {},
   "outputs": [
    {
     "name": "stdout",
     "output_type": "stream",
     "text": [
      "[-15 -11  -7  -3   0   4   8  12  16  20] \n",
      " -15.70394633053466 20.71454179948824\n"
     ]
    }
   ],
   "source": [
    "sample_shapes_n = 10\n",
    "\n"
   ]
  },
  {
   "cell_type": "code",
   "execution_count": null,
   "metadata": {},
   "outputs": [
    {
     "name": "stderr",
     "output_type": "stream",
     "text": [
      "572it [00:25, 22.06it/s]\n"
     ]
    }
   ],
   "source": [
    "spam_test = spam.get_spam(dist)"
   ]
  },
  {
   "cell_type": "code",
   "execution_count": null,
   "metadata": {},
   "outputs": [],
   "source": [
    "i = sitk.ReadImage('/mnt/projects/VIA_Vlad/nobackup/BrainVisa/CS_edited/CFIN/LSulci_sub-via010_default_session_best_edit_NHT.nii.gz')"
   ]
  },
  {
   "cell_type": "code",
   "execution_count": null,
   "metadata": {},
   "outputs": [],
   "source": [
    "a = \n",
    "a.CopyInformation(i)\n",
    "a = a + sitk.Cast(i, sitk.sitkFloat64)*0.2"
   ]
  },
  {
   "cell_type": "code",
   "execution_count": null,
   "metadata": {},
   "outputs": [
    {
     "data": {
      "text/plain": [
       "192"
      ]
     },
     "execution_count": 15,
     "metadata": {},
     "output_type": "execute_result"
    }
   ],
   "source": [
    "sitk.Image(i)"
   ]
  },
  {
   "cell_type": "code",
   "execution_count": 15,
   "metadata": {},
   "outputs": [],
   "source": [
    "i = sitk.ReadImage('/mnt/projects/VIA_Vlad/nobackup/BrainVisa/CS_edited/CFIN/LSulci_sub-via010_default_session_best_edit_NHT.nii.gz')"
   ]
  },
  {
   "cell_type": "code",
   "execution_count": 31,
   "metadata": {},
   "outputs": [
    {
     "name": "stdout",
     "output_type": "stream",
     "text": [
      "reading image      : done\n",
      "resolutions        : (0.899994 mm,0.902778 mm,0.902771 mm)\n",
      "reading slice      :                      1 1 1 1 1 1 1 1 1 1 2 2 2 2 2 2 2 2 2 2 3 3 3 3 3 3 3 3 3 3 4 4 4 4 4 4 4 4 4 4 5 5 5 5 5 5 5 5 5 5 6 6 6 6 6 6 6 6 6 6 7 7 7 7 7 7 7 7 7 7 8 8 8 8 8 8 8 8 8 8 9 9 9 9 9 9 9 9 9 91010101010101010101011111111111111111111121212121212121212121313131313131313131314141414141414141414151515151515151515151616161616161616161617171717171717171717181818181818181818181919191919191919191920202020202020202020212121212121212121212222222222222222222223232323232323232323242424242424242424242525252525252525252526262626262626262626272727272727272727272828282828282828288\n",
      "getting interface  :         done \n",
      "processing mesh    : reduced neighborhood\u000bextended neighborhoo\u000bvertices            \u000bsmoothing  iteration                                            1   1   1   1   1   1   1   1   1   1   2   2   2   2   2   2   2   2   2   2   3                       pass 1/3 : decimating     \u000bpass 2/3 : decimating        1\u000bpass 3/3 : decimating     \u000bsmoothing  iteration                                            1   1   1   1   1   1   1   1   1   1   2   2   2   2   2   2   2   2   2   2   3                       normals             \u000btriangles           \u000bdone ( 64.6766% reduction )\n",
      "clearing interface : done\n",
      "surface            : 200.22 mm2\n"
     ]
    }
   ],
   "source": [
    "spam_test_img = sitk.GetImageFromArray(1*(spam_sulci[0][48]>bin_threshold).astype(np.int16))\n",
    "spam_test_img.CopyInformation(i)\n",
    "sitk.WriteImage(spam_test_img, './spam_test_img.nii.gz')\n",
    "subprocess.run(cmd)\n",
    "spam_test_mesh = o3d.io.read_triangle_mesh('/mrhome/vladyslavz/git/central-sulcus-analysis/shape_features/spam_test_mesh.ply')\n",
    "o3d.visualization.draw_geometries([spam_test_mesh])"
   ]
  },
  {
   "attachments": {},
   "cell_type": "markdown",
   "metadata": {},
   "source": [
    "The weight of this contribution follows an exponential decay relative to the square of the distance to the location. Hence, each average image provides a good representation of the shape of the sulci around the corresponding location in the axis.\n",
    "\n",
    "All sulci are aligned to a template neutral sulcus before the computation of a weighted sum of 3D volumes. The resulting volume is smoothed by convolution with a 3D Gaussian. Finally, a simple threshold is used to provide a 3D representation of one of the weighted SPAM iso-surfaces.\n",
    "\n"
   ]
  },
  {
   "cell_type": "code",
   "execution_count": null,
   "metadata": {},
   "outputs": [
    {
     "data": {
      "text/plain": [
       "0.040119135127172474"
      ]
     },
     "execution_count": 35,
     "metadata": {},
     "output_type": "execute_result"
    }
   ],
   "source": [
    "dist.min()"
   ]
  },
  {
   "cell_type": "code",
   "execution_count": null,
   "metadata": {},
   "outputs": [
    {
     "data": {
      "text/plain": [
       "118"
      ]
     },
     "execution_count": 36,
     "metadata": {},
     "output_type": "execute_result"
    }
   ],
   "source": [
    "np.sum(dist<100)"
   ]
  },
  {
   "cell_type": "code",
   "execution_count": null,
   "metadata": {},
   "outputs": [],
   "source": []
  },
  {
   "cell_type": "code",
   "execution_count": 21,
   "metadata": {},
   "outputs": [
    {
     "data": {
      "text/plain": [
       "[<matplotlib.lines.Line2D at 0x7f1b580dd270>]"
      ]
     },
     "execution_count": 21,
     "metadata": {},
     "output_type": "execute_result"
    },
    {
     "data": {
      "image/png": "[encoded data removed]",
      "text/plain": [
       "<Figure size 640x480 with 1 Axes>"
      ]
     },
     "metadata": {},
     "output_type": "display_data"
    }
   ],
   "source": [
    "x = np.linspace(dists_topprcn.min(), dists_topprcn.max(), 100)\n",
    "y = [np.exp(-i/20) for i in x]\n",
    "\n",
    "plt.plot(x, y)"
   ]
  },
  {
   "cell_type": "code",
   "execution_count": null,
   "metadata": {},
   "outputs": [],
   "source": [
    "\n",
    "spam_test_smooth = gaussian_filter(spam_test, sigma=1)"
   ]
  },
  {
   "cell_type": "code",
   "execution_count": null,
   "metadata": {},
   "outputs": [
    {
     "data": {
      "text/plain": [
       "0.3292106211282197"
      ]
     },
     "execution_count": 39,
     "metadata": {},
     "output_type": "execute_result"
    }
   ],
   "source": [
    "spam_test_smooth.max()"
   ]
  },
  {
   "cell_type": "code",
   "execution_count": null,
   "metadata": {},
   "outputs": [
    {
     "data": {
      "text/plain": [
       "0.39809402505378033"
      ]
     },
     "execution_count": 40,
     "metadata": {},
     "output_type": "execute_result"
    }
   ],
   "source": [
    "spam_test.max()"
   ]
  },
  {
   "attachments": {},
   "cell_type": "markdown",
   "metadata": {},
   "source": [
    "### TODO:\n",
    "\n",
    "1. Finish the pieces of pipeline\n",
    "    * ~~exponential decay of the distance to the location to get the weighted SPAM and use all sulci to get the average image~~\n",
    "    * ~~gaussian smoothing of the resulting volume~~\n",
    "    * ~~thresholding to get the 3D representation of the weighted SPAM iso-surfaces~~\n",
    "    * ~~automatic mesh creation from the 3D representation from code calling brainvisa~~\n",
    "    * visualization of the 3D representation of the weighted SPAM iso-surfaces with open3d\n",
    "2. Create a pipeline to run the whole pipeline\n",
    "    * selection of all hyperparameters to be tuned\n",
    "    * refactor code and move into modules\n",
    "3. Perform hyperparameter tuning\n",
    "    * for the registration / ISOMAP following paper's guidance\n",
    "4. Generate automatic reports and graphs for the ISOMAP features (visualization of the 3D representation of the weighted SPAM iso-surfaces)\n",
    "5. Perform frequency analysis of the ISOMAP features following paper's guidance\n"
   ]
  },
  {
   "attachments": {},
   "cell_type": "markdown",
   "metadata": {},
   "source": []
  },
  {
   "cell_type": "code",
   "execution_count": 10,
   "metadata": {},
   "outputs": [],
   "source": []
  },
  {
   "cell_type": "code",
   "execution_count": 11,
   "metadata": {},
   "outputs": [],
   "source": []
  },
  {
   "cell_type": "code",
   "execution_count": null,
   "metadata": {},
   "outputs": [
    {
     "name": "stdout",
     "output_type": "stream",
     "text": [
      "reading image      : done\n",
      "resolutions        : (0.899994 mm,0.902778 mm,0.902771 mm)\n",
      "reading slice      :                      1 1 1 1 1 1 1 1 1 1 2 2 2 2 2 2 2 2 2 2 3 3 3 3 3 3 3 3 3 3 4 4 4 4 4 4 4 4 4 4 5 5 5 5 5 5 5 5 5 5 6 6 6 6 6 6 6 6 6 6 7 7 7 7 7 7 7 7 7 7 8 8 8 8 8 8 8 8 8 8 9 9 9 9 9 9 9 9 9 91010101010101010101011111111111111111111121212121212121212121313131313131313131314141414141414141414151515151515151515151616161616161616161617171717171717171717181818181818181818181919191919191919191920202020202020202020212121212121212121212222222222222222222223232323232323232323242424242424242424242525252525252525252526262626262626262626272727272727272727272828282828282828288\n",
      "getting interface  :         done \n",
      "processing mesh    : reduced neighborhood\u000bextended neighborhoo\u000bvertices            \u000bsmoothing  iteration                                            1   1   1   1   1   1   1   1   1   1   2   2   2   2   2   2   2   2   2   2   3                       pass 1/3 : decimating        1\u000bpass 2/3 : decimating        1   2\u000bpass 3/3 : decimating        1\u000bsmoothing  iteration                                            1   1   1   1   1   1   1   1   1   1   2   2   2   2   2   2   2   2   2   2   3                       normals             \u000btriangles           \u000bdone ( 65.625% reduction )\n",
      "clearing interface : done\n",
      "surface            : 317.467 mm2\n"
     ]
    },
    {
     "data": {
      "text/plain": [
       "CompletedProcess(args=['/mrhome/vladyslavz/portable_apps/brainvisa4_5/bin/AimsMeshBrain', '-i', '/mrhome/vladyslavz/git/central-sulcus-analysis/shape_features/spam_test_img.nii.gz', '-o', '/mrhome/vladyslavz/git/central-sulcus-analysis/shape_features/spam_test_mesh.ply'], returncode=0)"
      ]
     },
     "execution_count": 43,
     "metadata": {},
     "output_type": "execute_result"
    }
   ],
   "source": []
  },
  {
   "cell_type": "code",
   "execution_count": null,
   "metadata": {},
   "outputs": [],
   "source": []
  },
  {
   "cell_type": "code",
   "execution_count": null,
   "metadata": {},
   "outputs": [],
   "source": []
  }
 ],
 "metadata": {
  "kernelspec": {
   "display_name": "css",
   "language": "python",
   "name": "python3"
  },
  "language_info": {
   "codemirror_mode": {
    "name": "ipython",
    "version": 3
   },
   "file_extension": ".py",
   "mimetype": "text/x-python",
   "name": "python",
   "nbconvert_exporter": "python",
   "pygments_lexer": "ipython3",
   "version": "3.10.9"
  },
  "orig_nbformat": 4
 },
 "nbformat": 4,
 "nbformat_minor": 2
}
