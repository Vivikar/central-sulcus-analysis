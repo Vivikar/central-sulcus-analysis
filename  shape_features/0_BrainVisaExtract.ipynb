{
 "cells": [
  {
   "cell_type": "code",
   "execution_count": 37,
   "metadata": {},
   "outputs": [],
   "source": [
    "from pathlib import Path\n",
    "import pandas as pd\n",
    "import numpy as np\n",
    "import matplotlib.pyplot as plt\n",
    "import seaborn as sns\n",
    "\n",
    "from tqdm import tqdm\n",
    "\n",
    "import pickle"
   ]
  },
  {
   "cell_type": "code",
   "execution_count": 31,
   "metadata": {},
   "outputs": [],
   "source": [
    "CFIN_Paths = [x for x in Path('/mnt/projects/VIA_Vlad/nobackup/BrainVisa/BrainVisa/CFIN').iterdir() if x.is_dir()]\n",
    "DRCMR_Paths = [x for x in Path('/mnt/projects/VIA_Vlad/nobackup/BrainVisa/BrainVisa/DRCMR').iterdir() if x.is_dir()]\n",
    "subjects_paths = CFIN_Paths + DRCMR_Paths"
   ]
  },
  {
   "cell_type": "code",
   "execution_count": 36,
   "metadata": {},
   "outputs": [
    {
     "name": "stderr",
     "output_type": "stream",
     "text": [
      " 45%|████▌     | 139/307 [00:01<00:01, 141.34it/s]"
     ]
    },
    {
     "name": "stdout",
     "output_type": "stream",
     "text": [
      "No sulcal morphology for sub-via419\n"
     ]
    },
    {
     "name": "stderr",
     "output_type": "stream",
     "text": [
      " 55%|█████▌    | 170/307 [00:01<00:00, 146.14it/s]"
     ]
    },
    {
     "name": "stdout",
     "output_type": "stream",
     "text": [
      "No sulcal morphology for sub-via510\n"
     ]
    },
    {
     "name": "stderr",
     "output_type": "stream",
     "text": [
      " 86%|████████▌ | 264/307 [00:01<00:00, 155.54it/s]"
     ]
    },
    {
     "name": "stdout",
     "output_type": "stream",
     "text": [
      "No sulcal morphology for sub-via244\n",
      "No sulcal morphology for sub-via286\n"
     ]
    },
    {
     "name": "stderr",
     "output_type": "stream",
     "text": [
      "100%|██████████| 307/307 [00:02<00:00, 139.09it/s]\n"
     ]
    }
   ],
   "source": [
    "sulc_morph_suffix = 't1mri/default_acquisition/default_analysis/folds/3.1/default_session_auto'\n",
    "depthprof_suffix = 'sulci'\n",
    "\n",
    "subject_features = {}\n",
    "\n",
    "for subj in tqdm(subjects_paths):\n",
    "    subject = subj.name\n",
    "    sulc_morph_path = (subj / sulc_morph_suffix)/f'{subject}_default_session_auto_sulcal_morphometry.csv'\n",
    "    depthprof_path = subj / depthprof_suffix\n",
    "    \n",
    "    subj_feat = {}\n",
    "    \n",
    "    try:\n",
    "        subj_feat['morphology'] = pd.read_csv(sulc_morph_path,  sep=';')\n",
    "    except:\n",
    "        print(f'No sulcal morphology for {subject}')\n",
    "        subj_feat['morphology'] = pd.DataFrame()\n",
    "        continue\n",
    "    try:\n",
    "        subj_feat['depth_profile_L'] = pd.read_table(depthprof_path/f'{subject}_L_CS-depth.txt',\n",
    "                                                names=['index', 'depth', 'profile']).set_index('index')\n",
    "    except:\n",
    "        print(f'No depth profile for {subject}')\n",
    "        subj_feat['depth_profile_L'] = pd.DataFrame()\n",
    "        \n",
    "    try:\n",
    "        subj_feat['depth_profile_R'] = pd.read_table(depthprof_path/f'{subject}_R_CS-depth.txt',\n",
    "                                                   names=['index', 'depth', 'profile']).set_index('index')\n",
    "    except:\n",
    "        print(f'No depth profile for {subject}')\n",
    "        subj_feat['depth_profile_R'] = pd.DataFrame()\n",
    "    try:\n",
    "        subj_feat['medial_axis_L'] = pd.read_table(depthprof_path/f'{subject}_L_CS-medial_axis.txt',\n",
    "                                                   names=['index', 'depth', 'profile']).set_index('index')\n",
    "    except:\n",
    "        print(f'No medial axis for {subject}')\n",
    "        subj_feat['medial_axis_L'] = pd.DataFrame()\n",
    "    try:\n",
    "        subj_feat['medial_axis_R'] = pd.read_table(depthprof_path/f'{subject}_R_CS-medial_axis.txt',\n",
    "                                                   names=['index', 'depth', 'profile']).set_index('index')\n",
    "    except:\n",
    "        print(f'No medial axis for {subject}')\n",
    "        subj_feat['medial_axis_R'] = pd.DataFrame()\n",
    "\n",
    "    subject_features[subject] = subj_feat"
   ]
  },
  {
   "cell_type": "code",
   "execution_count": 39,
   "metadata": {},
   "outputs": [],
   "source": [
    "pd.to_pickle(subject_features, '../data/bvisa_subject_features.pkl')"
   ]
  },
  {
   "cell_type": "code",
   "execution_count": 29,
   "metadata": {},
   "outputs": [
    {
     "data": {
      "text/html": [
       "<div>\n",
       "<style scoped>\n",
       "    .dataframe tbody tr th:only-of-type {\n",
       "        vertical-align: middle;\n",
       "    }\n",
       "\n",
       "    .dataframe tbody tr th {\n",
       "        vertical-align: top;\n",
       "    }\n",
       "\n",
       "    .dataframe thead th {\n",
       "        text-align: right;\n",
       "    }\n",
       "</style>\n",
       "<table border=\"1\" class=\"dataframe\">\n",
       "  <thead>\n",
       "    <tr style=\"text-align: right;\">\n",
       "      <th></th>\n",
       "      <th>sulcus</th>\n",
       "      <th>label</th>\n",
       "      <th>side</th>\n",
       "      <th>surface_talairach</th>\n",
       "      <th>surface_native</th>\n",
       "      <th>maxdepth_talairach</th>\n",
       "      <th>maxdepth_native</th>\n",
       "      <th>meandepth_talairach</th>\n",
       "      <th>meandepth_native</th>\n",
       "      <th>hull_junction_length_talairach</th>\n",
       "      <th>hull_junction_length_native</th>\n",
       "      <th>GM_thickness</th>\n",
       "      <th>opening</th>\n",
       "    </tr>\n",
       "  </thead>\n",
       "  <tbody>\n",
       "    <tr>\n",
       "      <th>0</th>\n",
       "      <td>F.C.L.a._left</td>\n",
       "      <td>F.C.L.a.</td>\n",
       "      <td>left</td>\n",
       "      <td>2598.71</td>\n",
       "      <td>2425.23</td>\n",
       "      <td>14.18</td>\n",
       "      <td>13.64</td>\n",
       "      <td>9.39</td>\n",
       "      <td>9.08</td>\n",
       "      <td>84.02</td>\n",
       "      <td>81.04</td>\n",
       "      <td>4.35</td>\n",
       "      <td>3.20</td>\n",
       "    </tr>\n",
       "    <tr>\n",
       "      <th>1</th>\n",
       "      <td>F.C.L.a._right</td>\n",
       "      <td>F.C.L.a.</td>\n",
       "      <td>right</td>\n",
       "      <td>3210.21</td>\n",
       "      <td>2983.79</td>\n",
       "      <td>19.68</td>\n",
       "      <td>18.90</td>\n",
       "      <td>8.78</td>\n",
       "      <td>8.46</td>\n",
       "      <td>128.00</td>\n",
       "      <td>123.56</td>\n",
       "      <td>4.13</td>\n",
       "      <td>2.44</td>\n",
       "    </tr>\n",
       "    <tr>\n",
       "      <th>2</th>\n",
       "      <td>F.C.L.p._left</td>\n",
       "      <td>F.C.L.p.</td>\n",
       "      <td>left</td>\n",
       "      <td>6347.33</td>\n",
       "      <td>5908.65</td>\n",
       "      <td>42.86</td>\n",
       "      <td>41.68</td>\n",
       "      <td>21.44</td>\n",
       "      <td>20.83</td>\n",
       "      <td>115.50</td>\n",
       "      <td>110.84</td>\n",
       "      <td>3.79</td>\n",
       "      <td>1.27</td>\n",
       "    </tr>\n",
       "    <tr>\n",
       "      <th>3</th>\n",
       "      <td>F.C.L.p._right</td>\n",
       "      <td>F.C.L.p.</td>\n",
       "      <td>right</td>\n",
       "      <td>6834.85</td>\n",
       "      <td>6367.58</td>\n",
       "      <td>26.42</td>\n",
       "      <td>25.30</td>\n",
       "      <td>12.48</td>\n",
       "      <td>12.08</td>\n",
       "      <td>126.20</td>\n",
       "      <td>121.14</td>\n",
       "      <td>3.89</td>\n",
       "      <td>1.16</td>\n",
       "    </tr>\n",
       "    <tr>\n",
       "      <th>4</th>\n",
       "      <td>F.C.L.r.ant._left</td>\n",
       "      <td>F.C.L.r.ant.</td>\n",
       "      <td>left</td>\n",
       "      <td>690.46</td>\n",
       "      <td>640.22</td>\n",
       "      <td>28.80</td>\n",
       "      <td>27.72</td>\n",
       "      <td>14.69</td>\n",
       "      <td>14.19</td>\n",
       "      <td>8.98</td>\n",
       "      <td>8.62</td>\n",
       "      <td>3.45</td>\n",
       "      <td>1.81</td>\n",
       "    </tr>\n",
       "    <tr>\n",
       "      <th>...</th>\n",
       "      <td>...</td>\n",
       "      <td>...</td>\n",
       "      <td>...</td>\n",
       "      <td>...</td>\n",
       "      <td>...</td>\n",
       "      <td>...</td>\n",
       "      <td>...</td>\n",
       "      <td>...</td>\n",
       "      <td>...</td>\n",
       "      <td>...</td>\n",
       "      <td>...</td>\n",
       "      <td>...</td>\n",
       "      <td>...</td>\n",
       "    </tr>\n",
       "    <tr>\n",
       "      <th>118</th>\n",
       "      <td>S.T.s.ter.asc.post._right</td>\n",
       "      <td>S.T.s.ter.asc.post.</td>\n",
       "      <td>right</td>\n",
       "      <td>2526.72</td>\n",
       "      <td>2349.47</td>\n",
       "      <td>29.66</td>\n",
       "      <td>28.68</td>\n",
       "      <td>22.60</td>\n",
       "      <td>21.89</td>\n",
       "      <td>56.18</td>\n",
       "      <td>54.06</td>\n",
       "      <td>5.02</td>\n",
       "      <td>0.13</td>\n",
       "    </tr>\n",
       "    <tr>\n",
       "      <th>119</th>\n",
       "      <td>S.p.C._left</td>\n",
       "      <td>S.p.C.</td>\n",
       "      <td>left</td>\n",
       "      <td>1067.53</td>\n",
       "      <td>991.48</td>\n",
       "      <td>13.46</td>\n",
       "      <td>13.12</td>\n",
       "      <td>8.91</td>\n",
       "      <td>8.64</td>\n",
       "      <td>65.76</td>\n",
       "      <td>63.38</td>\n",
       "      <td>3.65</td>\n",
       "      <td>1.91</td>\n",
       "    </tr>\n",
       "    <tr>\n",
       "      <th>120</th>\n",
       "      <td>S.p.C._right</td>\n",
       "      <td>S.p.C.</td>\n",
       "      <td>right</td>\n",
       "      <td>294.52</td>\n",
       "      <td>273.22</td>\n",
       "      <td>14.60</td>\n",
       "      <td>14.02</td>\n",
       "      <td>10.54</td>\n",
       "      <td>10.14</td>\n",
       "      <td>15.46</td>\n",
       "      <td>14.96</td>\n",
       "      <td>3.90</td>\n",
       "      <td>2.19</td>\n",
       "    </tr>\n",
       "    <tr>\n",
       "      <th>121</th>\n",
       "      <td>S.s.P._left</td>\n",
       "      <td>S.s.P.</td>\n",
       "      <td>left</td>\n",
       "      <td>2338.75</td>\n",
       "      <td>2176.05</td>\n",
       "      <td>17.54</td>\n",
       "      <td>17.10</td>\n",
       "      <td>9.18</td>\n",
       "      <td>8.95</td>\n",
       "      <td>130.62</td>\n",
       "      <td>125.12</td>\n",
       "      <td>3.70</td>\n",
       "      <td>0.58</td>\n",
       "    </tr>\n",
       "    <tr>\n",
       "      <th>122</th>\n",
       "      <td>S.s.P._right</td>\n",
       "      <td>S.s.P.</td>\n",
       "      <td>right</td>\n",
       "      <td>1042.45</td>\n",
       "      <td>973.06</td>\n",
       "      <td>14.88</td>\n",
       "      <td>14.50</td>\n",
       "      <td>8.94</td>\n",
       "      <td>8.73</td>\n",
       "      <td>64.96</td>\n",
       "      <td>62.24</td>\n",
       "      <td>4.10</td>\n",
       "      <td>0.48</td>\n",
       "    </tr>\n",
       "  </tbody>\n",
       "</table>\n",
       "<p>123 rows × 13 columns</p>\n",
       "</div>"
      ],
      "text/plain": [
       "                        sulcus                label   side  surface_talairach  \\\n",
       "0                F.C.L.a._left             F.C.L.a.   left            2598.71   \n",
       "1               F.C.L.a._right             F.C.L.a.  right            3210.21   \n",
       "2                F.C.L.p._left             F.C.L.p.   left            6347.33   \n",
       "3               F.C.L.p._right             F.C.L.p.  right            6834.85   \n",
       "4            F.C.L.r.ant._left         F.C.L.r.ant.   left             690.46   \n",
       "..                         ...                  ...    ...                ...   \n",
       "118  S.T.s.ter.asc.post._right  S.T.s.ter.asc.post.  right            2526.72   \n",
       "119                S.p.C._left               S.p.C.   left            1067.53   \n",
       "120               S.p.C._right               S.p.C.  right             294.52   \n",
       "121                S.s.P._left               S.s.P.   left            2338.75   \n",
       "122               S.s.P._right               S.s.P.  right            1042.45   \n",
       "\n",
       "     surface_native  maxdepth_talairach  maxdepth_native  meandepth_talairach  \\\n",
       "0           2425.23               14.18            13.64                 9.39   \n",
       "1           2983.79               19.68            18.90                 8.78   \n",
       "2           5908.65               42.86            41.68                21.44   \n",
       "3           6367.58               26.42            25.30                12.48   \n",
       "4            640.22               28.80            27.72                14.69   \n",
       "..              ...                 ...              ...                  ...   \n",
       "118         2349.47               29.66            28.68                22.60   \n",
       "119          991.48               13.46            13.12                 8.91   \n",
       "120          273.22               14.60            14.02                10.54   \n",
       "121         2176.05               17.54            17.10                 9.18   \n",
       "122          973.06               14.88            14.50                 8.94   \n",
       "\n",
       "     meandepth_native  hull_junction_length_talairach  \\\n",
       "0                9.08                           84.02   \n",
       "1                8.46                          128.00   \n",
       "2               20.83                          115.50   \n",
       "3               12.08                          126.20   \n",
       "4               14.19                            8.98   \n",
       "..                ...                             ...   \n",
       "118             21.89                           56.18   \n",
       "119              8.64                           65.76   \n",
       "120             10.14                           15.46   \n",
       "121              8.95                          130.62   \n",
       "122              8.73                           64.96   \n",
       "\n",
       "     hull_junction_length_native  GM_thickness  opening  \n",
       "0                          81.04          4.35     3.20  \n",
       "1                         123.56          4.13     2.44  \n",
       "2                         110.84          3.79     1.27  \n",
       "3                         121.14          3.89     1.16  \n",
       "4                           8.62          3.45     1.81  \n",
       "..                           ...           ...      ...  \n",
       "118                        54.06          5.02     0.13  \n",
       "119                        63.38          3.65     1.91  \n",
       "120                        14.96          3.90     2.19  \n",
       "121                       125.12          3.70     0.58  \n",
       "122                        62.24          4.10     0.48  \n",
       "\n",
       "[123 rows x 13 columns]"
      ]
     },
     "execution_count": 29,
     "metadata": {},
     "output_type": "execute_result"
    }
   ],
   "source": [
    "pd.read_csv(sulc_morph_path, sep=';')"
   ]
  },
  {
   "cell_type": "code",
   "execution_count": 18,
   "metadata": {},
   "outputs": [
    {
     "data": {
      "text/plain": [
       "<Axes: xlabel='index'>"
      ]
     },
     "execution_count": 18,
     "metadata": {},
     "output_type": "execute_result"
    },
    {
     "data": {
      "image/png": "[encoded data removed]",
      "text/plain": [
       "<Figure size 640x480 with 1 Axes>"
      ]
     },
     "metadata": {},
     "output_type": "display_data"
    }
   ],
   "source": [
    "t.depth_curve.plot()"
   ]
  },
  {
   "cell_type": "code",
   "execution_count": 19,
   "metadata": {},
   "outputs": [
    {
     "data": {
      "text/plain": [
       "<Axes: xlabel='index'>"
      ]
     },
     "execution_count": 19,
     "metadata": {},
     "output_type": "execute_result"
    },
    {
     "data": {
      "image/png": "[encoded data removed]",
      "text/plain": [
       "<Figure size 640x480 with 1 Axes>"
      ]
     },
     "metadata": {},
     "output_type": "display_data"
    }
   ],
   "source": [
    "t.sulcal_profile.plot()"
   ]
  },
  {
   "cell_type": "code",
   "execution_count": null,
   "metadata": {},
   "outputs": [],
   "source": []
  }
 ],
 "metadata": {
  "kernelspec": {
   "display_name": "css",
   "language": "python",
   "name": "python3"
  },
  "language_info": {
   "codemirror_mode": {
    "name": "ipython",
    "version": 3
   },
   "file_extension": ".py",
   "mimetype": "text/x-python",
   "name": "python",
   "nbconvert_exporter": "python",
   "pygments_lexer": "ipython3",
   "version": "3.10.9"
  },
  "orig_nbformat": 4
 },
 "nbformat": 4,
 "nbformat_minor": 2
}
